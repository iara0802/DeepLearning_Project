{
 "cells": [
  {
   "cell_type": "markdown",
   "metadata": {},
   "source": [
    "### <center>\n",
    "<h1>Deep Learning with Python</h1>\n",
    "<h2>Final Assignment</h2>\n",
    "<h3>Detection of fraudulent job announcements: <br> a classification task using Keras and Bert</h3>\n",
    "<h4>Iara Sobreiro</h4>\n",
    "<h4>Collaboration: Matteo Guida and Naomi Reichman</h4>\n",
    "\n",
    "</center>"
   ]
  },
  {
   "cell_type": "markdown",
   "metadata": {},
   "source": [
    "For this assignment we'll be working with a binary classification task in order to identify fraudulent job offers. For that purpose, we used the pre-made dataset \"fake_job_postings.csv\" from the Kaggle user Shivam Bansal (https://www.kaggle.com/datasets/shivamb/real-or-fake-fake-jobposting-prediction). The dataset has 18K job descriptions where about 800 are fraudulent. The data has two types of information about the jobs, textual and meta-information. The goal of our project, besides the classification task, is to compare the performance of three different models that we created from scratch and also of a new model that makes use of BERT's embbedings as input for the same task. So, our main questions are: Which of these models perform better? What can possibly increase accuracy?\n",
    "\n",
    "Obs: All my documentation is based on the screenshot results that I provide you, since, even though I selected a random seed, they still change a bit."
   ]
  },
  {
   "cell_type": "code",
   "execution_count": 1,
   "metadata": {
    "execution": {
     "iopub.execute_input": "2023-02-27T14:03:21.369373Z",
     "iopub.status.busy": "2023-02-27T14:03:21.368264Z",
     "iopub.status.idle": "2023-02-27T14:03:37.624201Z",
     "shell.execute_reply": "2023-02-27T14:03:37.622997Z",
     "shell.execute_reply.started": "2023-02-27T14:03:21.369333Z"
    },
    "tags": []
   },
   "outputs": [],
   "source": [
    " #libraries(some libraries are located below for comprehension purposes)    \n",
    "import keras\n",
    "import tensorflow as tf\n",
    "from tensorflow.keras.preprocessing.text import Tokenizer\n",
    "from tensorflow.keras.preprocessing.sequence import pad_sequences\n",
    "from tensorflow.keras.models import Sequential\n",
    "from tensorflow.keras.layers import Embedding, Flatten, Bidirectional, Dense, SpatialDropout1D\n",
    "from keras.layers import LSTM\n",
    "import pandas as pd\n",
    "import numpy as np\n",
    "import matplotlib.pyplot as plt\n",
    "from sklearn.metrics import confusion_matrix, accuracy_score, classification_report\n",
    "from sklearn.metrics import confusion_matrix, classification_report\n",
    "#! pip install imblearn"
   ]
  },
  {
   "cell_type": "code",
   "execution_count": 2,
   "metadata": {
    "execution": {
     "iopub.execute_input": "2023-02-27T14:03:37.627223Z",
     "iopub.status.busy": "2023-02-27T14:03:37.626600Z",
     "iopub.status.idle": "2023-02-27T14:03:37.632523Z",
     "shell.execute_reply": "2023-02-27T14:03:37.631369Z",
     "shell.execute_reply.started": "2023-02-27T14:03:37.627190Z"
    },
    "tags": []
   },
   "outputs": [],
   "source": [
    "#!nvidia-smi #check GPU's available"
   ]
  },
  {
   "cell_type": "markdown",
   "metadata": {},
   "source": [
    "# Data Visualization"
   ]
  },
  {
   "cell_type": "markdown",
   "metadata": {},
   "source": [
    "On this part, the purpose is only to understand how the data looks like by reading it in with the pandas library."
   ]
  },
  {
   "cell_type": "code",
   "execution_count": 3,
   "metadata": {
    "execution": {
     "iopub.execute_input": "2023-02-27T14:03:37.636107Z",
     "iopub.status.busy": "2023-02-27T14:03:37.633933Z",
     "iopub.status.idle": "2023-02-27T14:03:39.083891Z",
     "shell.execute_reply": "2023-02-27T14:03:39.082895Z",
     "shell.execute_reply.started": "2023-02-27T14:03:37.636073Z"
    },
    "tags": []
   },
   "outputs": [
    {
     "data": {
      "text/html": [
       "<div>\n",
       "<style scoped>\n",
       "    .dataframe tbody tr th:only-of-type {\n",
       "        vertical-align: middle;\n",
       "    }\n",
       "\n",
       "    .dataframe tbody tr th {\n",
       "        vertical-align: top;\n",
       "    }\n",
       "\n",
       "    .dataframe thead th {\n",
       "        text-align: right;\n",
       "    }\n",
       "</style>\n",
       "<table border=\"1\" class=\"dataframe\">\n",
       "  <thead>\n",
       "    <tr style=\"text-align: right;\">\n",
       "      <th></th>\n",
       "      <th>job_id</th>\n",
       "      <th>title</th>\n",
       "      <th>location</th>\n",
       "      <th>department</th>\n",
       "      <th>salary_range</th>\n",
       "      <th>company_profile</th>\n",
       "      <th>description</th>\n",
       "      <th>requirements</th>\n",
       "      <th>benefits</th>\n",
       "      <th>telecommuting</th>\n",
       "      <th>has_company_logo</th>\n",
       "      <th>has_questions</th>\n",
       "      <th>employment_type</th>\n",
       "      <th>required_experience</th>\n",
       "      <th>required_education</th>\n",
       "      <th>industry</th>\n",
       "      <th>function</th>\n",
       "      <th>fraudulent</th>\n",
       "    </tr>\n",
       "  </thead>\n",
       "  <tbody>\n",
       "    <tr>\n",
       "      <th>0</th>\n",
       "      <td>1</td>\n",
       "      <td>Marketing Intern</td>\n",
       "      <td>US, NY, New York</td>\n",
       "      <td>Marketing</td>\n",
       "      <td>NaN</td>\n",
       "      <td>We're Food52, and we've created a groundbreaki...</td>\n",
       "      <td>Food52, a fast-growing, James Beard Award-winn...</td>\n",
       "      <td>Experience with content management systems a m...</td>\n",
       "      <td>NaN</td>\n",
       "      <td>0</td>\n",
       "      <td>1</td>\n",
       "      <td>0</td>\n",
       "      <td>Other</td>\n",
       "      <td>Internship</td>\n",
       "      <td>NaN</td>\n",
       "      <td>NaN</td>\n",
       "      <td>Marketing</td>\n",
       "      <td>0</td>\n",
       "    </tr>\n",
       "    <tr>\n",
       "      <th>1</th>\n",
       "      <td>2</td>\n",
       "      <td>Customer Service - Cloud Video Production</td>\n",
       "      <td>NZ, , Auckland</td>\n",
       "      <td>Success</td>\n",
       "      <td>NaN</td>\n",
       "      <td>90 Seconds, the worlds Cloud Video Production ...</td>\n",
       "      <td>Organised - Focused - Vibrant - Awesome!Do you...</td>\n",
       "      <td>What we expect from you:Your key responsibilit...</td>\n",
       "      <td>What you will get from usThrough being part of...</td>\n",
       "      <td>0</td>\n",
       "      <td>1</td>\n",
       "      <td>0</td>\n",
       "      <td>Full-time</td>\n",
       "      <td>Not Applicable</td>\n",
       "      <td>NaN</td>\n",
       "      <td>Marketing and Advertising</td>\n",
       "      <td>Customer Service</td>\n",
       "      <td>0</td>\n",
       "    </tr>\n",
       "    <tr>\n",
       "      <th>2</th>\n",
       "      <td>3</td>\n",
       "      <td>Commissioning Machinery Assistant (CMA)</td>\n",
       "      <td>US, IA, Wever</td>\n",
       "      <td>NaN</td>\n",
       "      <td>NaN</td>\n",
       "      <td>Valor Services provides Workforce Solutions th...</td>\n",
       "      <td>Our client, located in Houston, is actively se...</td>\n",
       "      <td>Implement pre-commissioning and commissioning ...</td>\n",
       "      <td>NaN</td>\n",
       "      <td>0</td>\n",
       "      <td>1</td>\n",
       "      <td>0</td>\n",
       "      <td>NaN</td>\n",
       "      <td>NaN</td>\n",
       "      <td>NaN</td>\n",
       "      <td>NaN</td>\n",
       "      <td>NaN</td>\n",
       "      <td>0</td>\n",
       "    </tr>\n",
       "    <tr>\n",
       "      <th>3</th>\n",
       "      <td>4</td>\n",
       "      <td>Account Executive - Washington DC</td>\n",
       "      <td>US, DC, Washington</td>\n",
       "      <td>Sales</td>\n",
       "      <td>NaN</td>\n",
       "      <td>Our passion for improving quality of life thro...</td>\n",
       "      <td>THE COMPANY: ESRI – Environmental Systems Rese...</td>\n",
       "      <td>EDUCATION: Bachelor’s or Master’s in GIS, busi...</td>\n",
       "      <td>Our culture is anything but corporate—we have ...</td>\n",
       "      <td>0</td>\n",
       "      <td>1</td>\n",
       "      <td>0</td>\n",
       "      <td>Full-time</td>\n",
       "      <td>Mid-Senior level</td>\n",
       "      <td>Bachelor's Degree</td>\n",
       "      <td>Computer Software</td>\n",
       "      <td>Sales</td>\n",
       "      <td>0</td>\n",
       "    </tr>\n",
       "    <tr>\n",
       "      <th>4</th>\n",
       "      <td>5</td>\n",
       "      <td>Bill Review Manager</td>\n",
       "      <td>US, FL, Fort Worth</td>\n",
       "      <td>NaN</td>\n",
       "      <td>NaN</td>\n",
       "      <td>SpotSource Solutions LLC is a Global Human Cap...</td>\n",
       "      <td>JOB TITLE: Itemization Review ManagerLOCATION:...</td>\n",
       "      <td>QUALIFICATIONS:RN license in the State of Texa...</td>\n",
       "      <td>Full Benefits Offered</td>\n",
       "      <td>0</td>\n",
       "      <td>1</td>\n",
       "      <td>1</td>\n",
       "      <td>Full-time</td>\n",
       "      <td>Mid-Senior level</td>\n",
       "      <td>Bachelor's Degree</td>\n",
       "      <td>Hospital &amp; Health Care</td>\n",
       "      <td>Health Care Provider</td>\n",
       "      <td>0</td>\n",
       "    </tr>\n",
       "  </tbody>\n",
       "</table>\n",
       "</div>"
      ],
      "text/plain": [
       "   job_id                                      title            location  \\\n",
       "0       1                           Marketing Intern    US, NY, New York   \n",
       "1       2  Customer Service - Cloud Video Production      NZ, , Auckland   \n",
       "2       3    Commissioning Machinery Assistant (CMA)       US, IA, Wever   \n",
       "3       4          Account Executive - Washington DC  US, DC, Washington   \n",
       "4       5                        Bill Review Manager  US, FL, Fort Worth   \n",
       "\n",
       "  department salary_range                                    company_profile  \\\n",
       "0  Marketing          NaN  We're Food52, and we've created a groundbreaki...   \n",
       "1    Success          NaN  90 Seconds, the worlds Cloud Video Production ...   \n",
       "2        NaN          NaN  Valor Services provides Workforce Solutions th...   \n",
       "3      Sales          NaN  Our passion for improving quality of life thro...   \n",
       "4        NaN          NaN  SpotSource Solutions LLC is a Global Human Cap...   \n",
       "\n",
       "                                         description  \\\n",
       "0  Food52, a fast-growing, James Beard Award-winn...   \n",
       "1  Organised - Focused - Vibrant - Awesome!Do you...   \n",
       "2  Our client, located in Houston, is actively se...   \n",
       "3  THE COMPANY: ESRI – Environmental Systems Rese...   \n",
       "4  JOB TITLE: Itemization Review ManagerLOCATION:...   \n",
       "\n",
       "                                        requirements  \\\n",
       "0  Experience with content management systems a m...   \n",
       "1  What we expect from you:Your key responsibilit...   \n",
       "2  Implement pre-commissioning and commissioning ...   \n",
       "3  EDUCATION: Bachelor’s or Master’s in GIS, busi...   \n",
       "4  QUALIFICATIONS:RN license in the State of Texa...   \n",
       "\n",
       "                                            benefits  telecommuting  \\\n",
       "0                                                NaN              0   \n",
       "1  What you will get from usThrough being part of...              0   \n",
       "2                                                NaN              0   \n",
       "3  Our culture is anything but corporate—we have ...              0   \n",
       "4                              Full Benefits Offered              0   \n",
       "\n",
       "   has_company_logo  has_questions employment_type required_experience  \\\n",
       "0                 1              0           Other          Internship   \n",
       "1                 1              0       Full-time      Not Applicable   \n",
       "2                 1              0             NaN                 NaN   \n",
       "3                 1              0       Full-time    Mid-Senior level   \n",
       "4                 1              1       Full-time    Mid-Senior level   \n",
       "\n",
       "  required_education                   industry              function  \\\n",
       "0                NaN                        NaN             Marketing   \n",
       "1                NaN  Marketing and Advertising      Customer Service   \n",
       "2                NaN                        NaN                   NaN   \n",
       "3  Bachelor's Degree          Computer Software                 Sales   \n",
       "4  Bachelor's Degree     Hospital & Health Care  Health Care Provider   \n",
       "\n",
       "   fraudulent  \n",
       "0           0  \n",
       "1           0  \n",
       "2           0  \n",
       "3           0  \n",
       "4           0  "
      ]
     },
     "execution_count": 3,
     "metadata": {},
     "output_type": "execute_result"
    }
   ],
   "source": [
    "# load the data and vizualise it with pandas\n",
    "df = pd.read_csv(\"/compLing/students/courses/deepLearning/finalProject23/iara.sobreiro/fake_job_postings.csv\") #read on Jupyter\n",
    "#df = pd.read_csv(\"../input/real-or-fake-fake-jobposting-prediction/fake_job_postings.csv\") #read on kaggle\n",
    "df.head()"
   ]
  },
  {
   "cell_type": "markdown",
   "metadata": {},
   "source": [
    "# Data Cleaning and Pre-Processing"
   ]
  },
  {
   "cell_type": "markdown",
   "metadata": {},
   "source": [
    "These next steps are considered essential because the data, at this point, is considered raw and one can only feed it into the models after it's clean. These processes involve checking for missing values (NAs), noisy data like punctuation, numbers, special characters, URLs, emojis, etc. (what is considered noise depends on what the research is about), and other inconsistencies. \n",
    "\n",
    "1. First, we checked if there were missing values and concluded that there were some. So, to deal with this problem, we replaced them with a white space.\n",
    "2. We got all the columns that we were insterested in and put them together in one single column called \"text\". And then, got rid of all the other columns that we didn't want. So, we are left with only two columns, \"text\" and \"fraudulent\", where the last one is composed by 0 (not fraud) and 1 (fraud).\n",
    "3. Next, we plot the classes that we have to check how many of which we got. We conclude that they are pretty imbalanced, since, as it was mentioned before, only 800 out of 18k are labeled with 1(fraud). \n",
    "4. On this last phase, since our data is now cleaned, we can transform it so that it can be used to train and test our models. First, we decide the maximum length of our sentences, which means that everything after that length will be truncated (in case it's bigger) or padded (add 0s in case it's smaller). The choice of this length is based on the sentences' average length. After this, our labels are tranformed into numpy arrays and our text is tokenized (using the keras tokenizer) and transformed into a numerical representation. Then, we pad the sequences based on the pre-established length and check the resulting shapes of the text and labels. Finally, the last thing to do is to shuffle our data so that the order of the examples in the dataset does not bias the model's training or evaluation."
   ]
  },
  {
   "cell_type": "code",
   "execution_count": 4,
   "metadata": {
    "execution": {
     "iopub.execute_input": "2023-02-27T14:03:39.090731Z",
     "iopub.status.busy": "2023-02-27T14:03:39.088729Z",
     "iopub.status.idle": "2023-02-27T14:03:39.122800Z",
     "shell.execute_reply": "2023-02-27T14:03:39.120384Z",
     "shell.execute_reply.started": "2023-02-27T14:03:39.090689Z"
    },
    "tags": []
   },
   "outputs": [
    {
     "data": {
      "text/plain": [
       "job_id                     0\n",
       "title                      0\n",
       "location                 346\n",
       "department             11547\n",
       "salary_range           15012\n",
       "company_profile         3308\n",
       "description                1\n",
       "requirements            2695\n",
       "benefits                7210\n",
       "telecommuting              0\n",
       "has_company_logo           0\n",
       "has_questions              0\n",
       "employment_type         3471\n",
       "required_experience     7050\n",
       "required_education      8105\n",
       "industry                4903\n",
       "function                6455\n",
       "fraudulent                 0\n",
       "dtype: int64"
      ]
     },
     "execution_count": 4,
     "metadata": {},
     "output_type": "execute_result"
    }
   ],
   "source": [
    "df.isna().sum() #check if the columns have NAs"
   ]
  },
  {
   "cell_type": "code",
   "execution_count": 5,
   "metadata": {
    "execution": {
     "iopub.execute_input": "2023-02-27T14:03:39.127500Z",
     "iopub.status.busy": "2023-02-27T14:03:39.126425Z",
     "iopub.status.idle": "2023-02-27T14:03:39.161345Z",
     "shell.execute_reply": "2023-02-27T14:03:39.160420Z",
     "shell.execute_reply.started": "2023-02-27T14:03:39.127462Z"
    },
    "tags": []
   },
   "outputs": [],
   "source": [
    "df.fillna(\" \", inplace=True) #replacing the NA's"
   ]
  },
  {
   "cell_type": "code",
   "execution_count": 6,
   "metadata": {
    "execution": {
     "iopub.execute_input": "2023-02-27T14:03:39.163922Z",
     "iopub.status.busy": "2023-02-27T14:03:39.163063Z",
     "iopub.status.idle": "2023-02-27T14:03:39.197473Z",
     "shell.execute_reply": "2023-02-27T14:03:39.196465Z",
     "shell.execute_reply.started": "2023-02-27T14:03:39.163880Z"
    },
    "tags": []
   },
   "outputs": [
    {
     "data": {
      "text/plain": [
       "job_id                 0\n",
       "title                  0\n",
       "location               0\n",
       "department             0\n",
       "salary_range           0\n",
       "company_profile        0\n",
       "description            0\n",
       "requirements           0\n",
       "benefits               0\n",
       "telecommuting          0\n",
       "has_company_logo       0\n",
       "has_questions          0\n",
       "employment_type        0\n",
       "required_experience    0\n",
       "required_education     0\n",
       "industry               0\n",
       "function               0\n",
       "fraudulent             0\n",
       "dtype: int64"
      ]
     },
     "execution_count": 6,
     "metadata": {},
     "output_type": "execute_result"
    }
   ],
   "source": [
    "df.isna().sum()\n",
    "#df.head()"
   ]
  },
  {
   "cell_type": "code",
   "execution_count": 7,
   "metadata": {
    "execution": {
     "iopub.execute_input": "2023-02-27T14:03:39.199784Z",
     "iopub.status.busy": "2023-02-27T14:03:39.199063Z",
     "iopub.status.idle": "2023-02-27T14:03:39.604483Z",
     "shell.execute_reply": "2023-02-27T14:03:39.603372Z",
     "shell.execute_reply.started": "2023-02-27T14:03:39.199748Z"
    },
    "tags": []
   },
   "outputs": [
    {
     "data": {
      "text/plain": [
       "0    Marketing Intern Marketing We're Food52, and w...\n",
       "1    Customer Service - Cloud Video Production Succ...\n",
       "2    Commissioning Machinery Assistant (CMA)   Valo...\n",
       "3    Account Executive - Washington DC Sales Our pa...\n",
       "4    Bill Review Manager   SpotSource Solutions LLC...\n",
       "Name: text, dtype: object"
      ]
     },
     "execution_count": 7,
     "metadata": {},
     "output_type": "execute_result"
    }
   ],
   "source": [
    "# put the columns that we are interested together in one sigle column called [text].\n",
    "df['text'] = df['title'] + \" \" + df['department'] + \\\n",
    "             \" \" + df['company_profile'] + \" \" + \\\n",
    "             df['description'] + \" \" + \\\n",
    "             df['requirements'] + \" \" +\\\n",
    "             df['benefits'] + \" \" +\\\n",
    "             df['function'] + \" \" +\\\n",
    "             df['required_experience']+ \" \"+\\\n",
    "             df[\"required_education\"]+ \" \" +\\\n",
    "             df[\"industry\"]\n",
    "df['text'].head()"
   ]
  },
  {
   "cell_type": "code",
   "execution_count": 8,
   "metadata": {
    "execution": {
     "iopub.execute_input": "2023-02-27T14:03:39.606585Z",
     "iopub.status.busy": "2023-02-27T14:03:39.606188Z",
     "iopub.status.idle": "2023-02-27T14:03:39.633200Z",
     "shell.execute_reply": "2023-02-27T14:03:39.632091Z",
     "shell.execute_reply.started": "2023-02-27T14:03:39.606548Z"
    },
    "tags": []
   },
   "outputs": [
    {
     "data": {
      "text/html": [
       "<div>\n",
       "<style scoped>\n",
       "    .dataframe tbody tr th:only-of-type {\n",
       "        vertical-align: middle;\n",
       "    }\n",
       "\n",
       "    .dataframe tbody tr th {\n",
       "        vertical-align: top;\n",
       "    }\n",
       "\n",
       "    .dataframe thead th {\n",
       "        text-align: right;\n",
       "    }\n",
       "</style>\n",
       "<table border=\"1\" class=\"dataframe\">\n",
       "  <thead>\n",
       "    <tr style=\"text-align: right;\">\n",
       "      <th></th>\n",
       "      <th>text</th>\n",
       "      <th>fraudulent</th>\n",
       "    </tr>\n",
       "  </thead>\n",
       "  <tbody>\n",
       "    <tr>\n",
       "      <th>0</th>\n",
       "      <td>Marketing Intern Marketing We're Food52, and w...</td>\n",
       "      <td>0</td>\n",
       "    </tr>\n",
       "    <tr>\n",
       "      <th>1</th>\n",
       "      <td>Customer Service - Cloud Video Production Succ...</td>\n",
       "      <td>0</td>\n",
       "    </tr>\n",
       "    <tr>\n",
       "      <th>2</th>\n",
       "      <td>Commissioning Machinery Assistant (CMA)   Valo...</td>\n",
       "      <td>0</td>\n",
       "    </tr>\n",
       "    <tr>\n",
       "      <th>3</th>\n",
       "      <td>Account Executive - Washington DC Sales Our pa...</td>\n",
       "      <td>0</td>\n",
       "    </tr>\n",
       "    <tr>\n",
       "      <th>4</th>\n",
       "      <td>Bill Review Manager   SpotSource Solutions LLC...</td>\n",
       "      <td>0</td>\n",
       "    </tr>\n",
       "  </tbody>\n",
       "</table>\n",
       "</div>"
      ],
      "text/plain": [
       "                                                text  fraudulent\n",
       "0  Marketing Intern Marketing We're Food52, and w...           0\n",
       "1  Customer Service - Cloud Video Production Succ...           0\n",
       "2  Commissioning Machinery Assistant (CMA)   Valo...           0\n",
       "3  Account Executive - Washington DC Sales Our pa...           0\n",
       "4  Bill Review Manager   SpotSource Solutions LLC...           0"
      ]
     },
     "execution_count": 8,
     "metadata": {},
     "output_type": "execute_result"
    }
   ],
   "source": [
    "# drop all the columns that we found uncessary.\n",
    "data = df.drop(columns = ['job_id','title','location','department', 'telecommuting',\n",
    "                             'salary_range','company_profile','description','requirements','benefits','employment_type',\n",
    "                             'required_experience','required_education','industry','function', 'has_company_logo', 'has_questions'])\n",
    "data = df[['text', 'fraudulent']] # we ared now left with just two columns, one for the text and one for the fraudulent.\n",
    "data.head()"
   ]
  },
  {
   "cell_type": "code",
   "execution_count": 9,
   "metadata": {
    "execution": {
     "iopub.execute_input": "2023-02-27T14:03:39.635447Z",
     "iopub.status.busy": "2023-02-27T14:03:39.634959Z",
     "iopub.status.idle": "2023-02-27T14:03:39.898330Z",
     "shell.execute_reply": "2023-02-27T14:03:39.897383Z",
     "shell.execute_reply.started": "2023-02-27T14:03:39.635409Z"
    }
   },
   "outputs": [
    {
     "data": {
      "image/png": "[encoded data removed]",
      "text/plain": [
       "<Figure size 640x480 with 1 Axes>"
      ]
     },
     "metadata": {},
     "output_type": "display_data"
    }
   ],
   "source": [
    "counts = data['fraudulent'].value_counts()\n",
    "counts.plot(kind='bar', color=['blue', 'red'])\n",
    "plt.xlabel('Label')\n",
    "plt.ylabel('Count')\n",
    "plt.title('Plotting of classes')\n",
    "plt.xticks(rotation=0)\n",
    "plt.show() #check the weight of each class."
   ]
  },
  {
   "cell_type": "code",
   "execution_count": 10,
   "metadata": {
    "execution": {
     "iopub.execute_input": "2023-02-27T14:03:39.900693Z",
     "iopub.status.busy": "2023-02-27T14:03:39.899645Z",
     "iopub.status.idle": "2023-02-27T14:03:56.970549Z",
     "shell.execute_reply": "2023-02-27T14:03:56.969376Z",
     "shell.execute_reply.started": "2023-02-27T14:03:39.900652Z"
    },
    "tags": []
   },
   "outputs": [
    {
     "name": "stdout",
     "output_type": "stream",
     "text": [
      "\n",
      "Shape of data tensor: (17880, 250)\n",
      "Shape of label tensor: (17880,)\n"
     ]
    }
   ],
   "source": [
    "max_len = 250 # established length from where the sentences will be padded\n",
    "max_words = 100000 # number of unique words\n",
    "\n",
    "#transforming the labels into numpy array:\n",
    "labels = data['fraudulent'].values\n",
    "text = data['text']\n",
    "\n",
    "tokenizer = keras.preprocessing.text.Tokenizer(num_words=max_words, filters='!\"#$%&()*+,-./:;<=>?@[\\\\]^_`{|}~\\t\\n', lower=True) #clean noise and lower case the text.\n",
    "tokenizer.fit_on_texts(text)    # this initializes a dictionary of most common tokens\n",
    "sequences = tokenizer.texts_to_sequences(text)  # convert the text into a numerical representation\n",
    "\n",
    "word_index = tokenizer.word_index  #creates a new dictionary with both the text its index\n",
    "\n",
    "\n",
    "data = pad_sequences(sequences, maxlen=max_len) #add 0s to the sequences that are bigger than the defined maximum lenght.\n",
    "\n",
    "print('\\nShape of data tensor:', data.shape)\n",
    "print('Shape of label tensor:', labels.shape)\n",
    "\n",
    "# shuffle the data\n",
    "indices = np.arange(data.shape[0])  # creates a new array called indices that contains the row indices of the data array.\n",
    "np.random.shuffle(indices) # shuffle the arrays order\n",
    "data = data[indices]  # reorder rows of array on the indices of the shuffled array\n",
    "labels = labels[indices]  # reorder rows of array on the indices of the shuffled array"
   ]
  },
  {
   "cell_type": "markdown",
   "metadata": {},
   "source": [
    "## Model 1"
   ]
  },
  {
   "cell_type": "markdown",
   "metadata": {},
   "source": [
    "Now that we have our text and labels ready to create and train a model, we create our first model, \"Model 1\". In order to train and test it we make use of the train_test_split function of the sklearn library, which already does the splitting of our data for us into train and test and we'll also want a validation set to keep a better track of our model's learning.\n",
    "After we split the data into these smaller sets, we print their shapes to confirm if they make sense.\n",
    "Afterwards, we create a random seed so that, everytime we run the code, the results will be the same. And then, we define our model. This part is where we decide which type of architecture our model will have:\n",
    "- we decide on setting the output dimensions to 20 for our \"Embbeding\" layer.The output dimension of the Embedding layer determines the size of the learned embeddings for each word in the input text.\n",
    "- the model is of type \"sequential\" (stack of layers where the output of one layer is passed as the input to the next layer) with three layers: an Embbeding layer, a Bidirectional layer (allows the layer to process the input sequence in both forward and backward directions), LSTM layer with 20 hidden units, and a Dense layer (applies a linear transformation to the input and outputs a scalar value) with 1 neuron (size of the output space, which is the one used for binary classification) with an activation function \"sigmoid\" (takes any real value as input and outputs values in the range of 0 to 1, commonly used for binary classification tasks).\n",
    "\n",
    "After we define the model we compile it. At this stage we define its loss function, optimizer and the evaluation metrics to use during its training. In this case, we are using \"binary crossentropy\" as the loss function (since this is a binary classification problem), the \"adam\" optimizer (a stochastic gradient descent (SGD) optimization algorithm), and \"accuracy\" as the evaluation metric.\n",
    "\n",
    "Next, we fit the model with our train sets and also our validation sets, to keep track of our validation loss and validation accuracy. We set the number of epochs to 10 and a batch size of 64 (the model will process 64 training examples at a time) which is considered a large batch size (compared to 32) to speed up the learning process. \n",
    "\n",
    "Afterwards, we report the evaluation of the test data, we plot the learning rate, get the confusion matrix and its classification report, which is what will tell us if the model learned or not and how well it learned."
   ]
  },
  {
   "cell_type": "code",
   "execution_count": 11,
   "metadata": {
    "execution": {
     "iopub.execute_input": "2023-02-27T14:03:56.973656Z",
     "iopub.status.busy": "2023-02-27T14:03:56.972104Z",
     "iopub.status.idle": "2023-02-27T14:03:57.023602Z",
     "shell.execute_reply": "2023-02-27T14:03:57.022456Z",
     "shell.execute_reply.started": "2023-02-27T14:03:56.973615Z"
    },
    "tags": []
   },
   "outputs": [],
   "source": [
    "# splitting with sklearn library\n",
    "# inspiration for code https://scikit-learn.org/stable/modules/generated/sklearn.model_selection.train_test_split.html\n",
    "from sklearn.model_selection import train_test_split\n",
    "y = labels # fraudulent or not \n",
    "X = data # job add\n",
    "\n",
    "# split into train and test: \n",
    "#we set a seed so that the same splitting is obtained avery time the code is run.\n",
    "X_train, X_test, y_train, y_test = train_test_split(X, y, test_size= 0.2, random_state=1)\n",
    "# create the validation portion:\n",
    "X_train, X_val, y_train, y_val = train_test_split(X_train, y_train, test_size=0.2, random_state=1)"
   ]
  },
  {
   "cell_type": "code",
   "execution_count": 12,
   "metadata": {
    "execution": {
     "iopub.execute_input": "2023-02-27T14:03:57.025530Z",
     "iopub.status.busy": "2023-02-27T14:03:57.025075Z",
     "iopub.status.idle": "2023-02-27T14:03:57.032551Z",
     "shell.execute_reply": "2023-02-27T14:03:57.031307Z",
     "shell.execute_reply.started": "2023-02-27T14:03:57.025478Z"
    },
    "tags": []
   },
   "outputs": [
    {
     "name": "stdout",
     "output_type": "stream",
     "text": [
      "X_train shape:  (11443, 250)\n",
      "X_test shape :  (3576, 250)\n",
      "y_train shape:  (11443,)\n",
      "y_test shape :  (3576,)\n"
     ]
    }
   ],
   "source": [
    "#Check the dimensions of our train and test sets for both data and labels.\n",
    "print(\"X_train shape: \",X_train.shape)\n",
    "print(\"X_test shape : \",X_test.shape)\n",
    "\n",
    "print(\"y_train shape: \",y_train.shape)\n",
    "print(\"y_test shape : \",y_test.shape)"
   ]
  },
  {
   "cell_type": "code",
   "execution_count": 13,
   "metadata": {
    "execution": {
     "iopub.execute_input": "2023-02-27T14:03:57.034904Z",
     "iopub.status.busy": "2023-02-27T14:03:57.034094Z",
     "iopub.status.idle": "2023-02-27T14:04:02.780490Z",
     "shell.execute_reply": "2023-02-27T14:04:02.779642Z",
     "shell.execute_reply.started": "2023-02-27T14:03:57.034853Z"
    },
    "tags": []
   },
   "outputs": [
    {
     "name": "stdout",
     "output_type": "stream",
     "text": [
      "Model: \"model1\"\n",
      "_________________________________________________________________\n",
      " Layer (type)                Output Shape              Param #   \n",
      "=================================================================\n",
      " embedding (Embedding)       (None, 250, 20)           2000000   \n",
      "                                                                 \n",
      " bidirectional (Bidirectiona  (None, 40)               6560      \n",
      " l)                                                              \n",
      "                                                                 \n",
      " dense (Dense)               (None, 1)                 41        \n",
      "                                                                 \n",
      "=================================================================\n",
      "Total params: 2,006,601\n",
      "Trainable params: 2,006,601\n",
      "Non-trainable params: 0\n",
      "_________________________________________________________________\n",
      "None\n"
     ]
    }
   ],
   "source": [
    "np.random.seed(111) #set a random seed \n",
    "\n",
    "#define the model \n",
    "output_dim=20\n",
    "model1=Sequential(name = \"model1\")\n",
    "model1.add(Embedding(max_words,output_dim,input_length=max_len))\n",
    "model1.add(Bidirectional(LSTM(20 )))\n",
    "model1.add(Dense(1,activation='sigmoid'))\n",
    "\n",
    "model1.compile(loss='binary_crossentropy',\n",
    "               optimizer='adam',\n",
    "               metrics=['accuracy'])\n",
    "\n",
    "print(model1.summary())"
   ]
  },
  {
   "cell_type": "code",
   "execution_count": 14,
   "metadata": {
    "execution": {
     "iopub.execute_input": "2023-02-27T14:04:02.790234Z",
     "iopub.status.busy": "2023-02-27T14:04:02.789837Z",
     "iopub.status.idle": "2023-02-27T14:06:35.411301Z",
     "shell.execute_reply": "2023-02-27T14:06:35.410103Z",
     "shell.execute_reply.started": "2023-02-27T14:04:02.790192Z"
    },
    "tags": []
   },
   "outputs": [
    {
     "name": "stdout",
     "output_type": "stream",
     "text": [
      "Epoch 1/10\n",
      "179/179 [==============================] - 45s 179ms/step - loss: 0.2527 - accuracy: 0.9461 - val_loss: 0.1713 - val_accuracy: 0.9532\n",
      "Epoch 2/10\n",
      "179/179 [==============================] - 24s 132ms/step - loss: 0.1252 - accuracy: 0.9583 - val_loss: 0.1011 - val_accuracy: 0.9710\n",
      "Epoch 3/10\n",
      "179/179 [==============================] - 17s 94ms/step - loss: 0.0656 - accuracy: 0.9814 - val_loss: 0.0855 - val_accuracy: 0.9727\n",
      "Epoch 4/10\n",
      "179/179 [==============================] - 16s 89ms/step - loss: 0.0312 - accuracy: 0.9924 - val_loss: 0.0804 - val_accuracy: 0.9769\n",
      "Epoch 5/10\n",
      "179/179 [==============================] - 12s 66ms/step - loss: 0.0148 - accuracy: 0.9970 - val_loss: 0.0878 - val_accuracy: 0.9804\n",
      "Epoch 6/10\n",
      "179/179 [==============================] - 9s 50ms/step - loss: 0.0101 - accuracy: 0.9982 - val_loss: 0.1014 - val_accuracy: 0.9787\n",
      "Epoch 7/10\n",
      "179/179 [==============================] - 9s 52ms/step - loss: 0.0068 - accuracy: 0.9990 - val_loss: 0.0943 - val_accuracy: 0.9783\n",
      "Epoch 8/10\n",
      "179/179 [==============================] - 7s 41ms/step - loss: 0.0045 - accuracy: 0.9992 - val_loss: 0.1011 - val_accuracy: 0.9787\n",
      "Epoch 9/10\n",
      "179/179 [==============================] - 6s 33ms/step - loss: 0.0038 - accuracy: 0.9992 - val_loss: 0.1084 - val_accuracy: 0.9794\n",
      "Epoch 10/10\n",
      "179/179 [==============================] - 8s 41ms/step - loss: 0.0019 - accuracy: 0.9998 - val_loss: 0.1137 - val_accuracy: 0.9797\n"
     ]
    }
   ],
   "source": [
    "# fit the model and observe the learning process with its respective metrics\n",
    "history1 = model1.fit(X_train, y_train,\n",
    "                    epochs=10,\n",
    "                    batch_size=64,\n",
    "                    validation_data=(X_val, y_val)) "
   ]
  },
  {
   "cell_type": "code",
   "execution_count": 15,
   "metadata": {
    "execution": {
     "iopub.execute_input": "2023-02-27T14:06:35.415306Z",
     "iopub.status.busy": "2023-02-27T14:06:35.413091Z",
     "iopub.status.idle": "2023-02-27T14:06:35.423521Z",
     "shell.execute_reply": "2023-02-27T14:06:35.422272Z",
     "shell.execute_reply.started": "2023-02-27T14:06:35.415263Z"
    }
   },
   "outputs": [
    {
     "data": {
      "text/plain": [
       "{'loss': [0.2527052164077759,\n",
       "  0.12517230212688446,\n",
       "  0.06555432826280594,\n",
       "  0.031228182837367058,\n",
       "  0.01477857120335102,\n",
       "  0.01012476347386837,\n",
       "  0.006808331701904535,\n",
       "  0.004529453348368406,\n",
       "  0.0037683704867959023,\n",
       "  0.0018803211860358715],\n",
       " 'accuracy': [0.9460805654525757,\n",
       "  0.9583151340484619,\n",
       "  0.9813860058784485,\n",
       "  0.9923970699310303,\n",
       "  0.9970287680625916,\n",
       "  0.9981648325920105,\n",
       "  0.9989513158798218,\n",
       "  0.9992135167121887,\n",
       "  0.9992135167121887,\n",
       "  0.9998252391815186],\n",
       " 'val_loss': [0.17134413123130798,\n",
       "  0.10107768326997757,\n",
       "  0.08547592163085938,\n",
       "  0.0803947001695633,\n",
       "  0.08778192847967148,\n",
       "  0.10136708617210388,\n",
       "  0.09429822117090225,\n",
       "  0.10105157643556595,\n",
       "  0.10843738913536072,\n",
       "  0.11369042843580246],\n",
       " 'val_accuracy': [0.953163206577301,\n",
       "  0.9709891676902771,\n",
       "  0.9727367758750916,\n",
       "  0.9769311547279358,\n",
       "  0.9804264307022095,\n",
       "  0.9786787629127502,\n",
       "  0.9783292412757874,\n",
       "  0.9786787629127502,\n",
       "  0.9793778657913208,\n",
       "  0.9797273874282837]}"
      ]
     },
     "execution_count": 15,
     "metadata": {},
     "output_type": "execute_result"
    }
   ],
   "source": [
    "history1.history"
   ]
  },
  {
   "cell_type": "code",
   "execution_count": 16,
   "metadata": {
    "execution": {
     "iopub.execute_input": "2023-02-27T14:06:35.425300Z",
     "iopub.status.busy": "2023-02-27T14:06:35.424833Z",
     "iopub.status.idle": "2023-02-27T14:06:36.392468Z",
     "shell.execute_reply": "2023-02-27T14:06:36.391324Z",
     "shell.execute_reply.started": "2023-02-27T14:06:35.425261Z"
    },
    "tags": []
   },
   "outputs": [
    {
     "name": "stdout",
     "output_type": "stream",
     "text": [
      "Evaluate on the test data:\n",
      "112/112 [==============================] - 1s 8ms/step - loss: 0.0927 - accuracy: 0.9824\n"
     ]
    }
   ],
   "source": [
    "#evaluate on the test data:\n",
    "print('Evaluate on the test data:')\n",
    "results = model1.evaluate(X_test, y_test)"
   ]
  },
  {
   "cell_type": "code",
   "execution_count": 17,
   "metadata": {
    "execution": {
     "iopub.execute_input": "2023-02-27T14:06:36.394594Z",
     "iopub.status.busy": "2023-02-27T14:06:36.394199Z",
     "iopub.status.idle": "2023-02-27T14:06:36.867531Z",
     "shell.execute_reply": "2023-02-27T14:06:36.866423Z",
     "shell.execute_reply.started": "2023-02-27T14:06:36.394561Z"
    },
    "tags": []
   },
   "outputs": [
    {
     "data": {
      "image/png": "[encoded data removed]",
      "text/plain": [
       "<Figure size 640x480 with 1 Axes>"
      ]
     },
     "metadata": {},
     "output_type": "display_data"
    },
    {
     "data": {
      "image/png": "[encoded data removed]",
      "text/plain": [
       "<Figure size 640x480 with 1 Axes>"
      ]
     },
     "metadata": {},
     "output_type": "display_data"
    }
   ],
   "source": [
    "#Plot the results from above to understand the learning process more clearly over each epoch.\n",
    "\n",
    "import matplotlib.pyplot as plt\n",
    "\n",
    "loss = history1.history['loss']\n",
    "val_loss = history1.history['val_loss']\n",
    "acc = history1.history['accuracy']\n",
    "val_acc = history1.history['val_accuracy']\n",
    "\n",
    "epochs = range(1, len(loss) + 1)  # to count from epoch 1 to epoch 3\n",
    "\n",
    "plt.plot(epochs, acc, 'b', linestyle = 'dashdot', label='Training acc')\n",
    "plt.plot(epochs, val_acc, 'r', linewidth = '3', label='Validation acc')\n",
    "plt.title('Training and validation accuracy Model 1')\n",
    "plt.xlabel(\"epochs\")\n",
    "plt.ylabel(\"accuracy\")\n",
    "plt.legend()\n",
    "\n",
    "plt.figure()\n",
    "\n",
    "plt.plot(epochs, loss, 'b', linestyle = 'dashdot', label='Training loss')\n",
    "plt.plot(epochs, val_loss, 'r', linewidth = '3', label='Validation loss')\n",
    "plt.title('Training and validation loss Model 1')\n",
    "plt.xlabel(\"epochs\")\n",
    "plt.ylabel(\"loss\")\n",
    "plt.legend()\n",
    "\n",
    "plt.show()"
   ]
  },
  {
   "cell_type": "code",
   "execution_count": 18,
   "metadata": {
    "execution": {
     "iopub.execute_input": "2023-02-27T14:06:36.869945Z",
     "iopub.status.busy": "2023-02-27T14:06:36.869512Z",
     "iopub.status.idle": "2023-02-27T14:06:38.478335Z",
     "shell.execute_reply": "2023-02-27T14:06:38.477212Z",
     "shell.execute_reply.started": "2023-02-27T14:06:36.869905Z"
    }
   },
   "outputs": [
    {
     "name": "stdout",
     "output_type": "stream",
     "text": [
      "112/112 [==============================] - 1s 7ms/step\n"
     ]
    },
    {
     "data": {
      "text/plain": [
       "array([[0.],\n",
       "       [0.],\n",
       "       [0.],\n",
       "       ...,\n",
       "       [0.],\n",
       "       [0.],\n",
       "       [0.]], dtype=float32)"
      ]
     },
     "execution_count": 18,
     "metadata": {},
     "output_type": "execute_result"
    }
   ],
   "source": [
    "y_pred = model1.predict(X_test)\n",
    "y_pred = np.around(y_pred, decimals=0)\n",
    "y_pred"
   ]
  },
  {
   "cell_type": "code",
   "execution_count": 19,
   "metadata": {
    "execution": {
     "iopub.execute_input": "2023-02-27T14:06:38.480695Z",
     "iopub.status.busy": "2023-02-27T14:06:38.479958Z",
     "iopub.status.idle": "2023-02-27T14:06:38.491374Z",
     "shell.execute_reply": "2023-02-27T14:06:38.489957Z",
     "shell.execute_reply.started": "2023-02-27T14:06:38.480649Z"
    }
   },
   "outputs": [
    {
     "name": "stdout",
     "output_type": "stream",
     "text": [
      "[[3407   16]\n",
      " [  47  106]]\n"
     ]
    }
   ],
   "source": [
    "conf_mat = confusion_matrix(y_test, y_pred)\n",
    "print(conf_mat) #confusion matrix: useful summary of the model´s preformance."
   ]
  },
  {
   "cell_type": "code",
   "execution_count": 20,
   "metadata": {
    "execution": {
     "iopub.execute_input": "2023-02-27T14:06:38.494020Z",
     "iopub.status.busy": "2023-02-27T14:06:38.493293Z",
     "iopub.status.idle": "2023-02-27T14:06:38.512291Z",
     "shell.execute_reply": "2023-02-27T14:06:38.511061Z",
     "shell.execute_reply.started": "2023-02-27T14:06:38.493980Z"
    }
   },
   "outputs": [
    {
     "name": "stdout",
     "output_type": "stream",
     "text": [
      "              precision    recall  f1-score   support\n",
      "\n",
      "           0       0.99      1.00      0.99      3423\n",
      "           1       0.87      0.69      0.77       153\n",
      "\n",
      "    accuracy                           0.98      3576\n",
      "   macro avg       0.93      0.84      0.88      3576\n",
      "weighted avg       0.98      0.98      0.98      3576\n",
      "\n"
     ]
    }
   ],
   "source": [
    "clas_rep = classification_report(y_test, y_pred, target_names=['0', '1'])\n",
    "print(clas_rep) #Check the evaluation metrics."
   ]
  },
  {
   "cell_type": "markdown",
   "metadata": {},
   "source": [
    "### Model 1 - Observations"
   ]
  },
  {
   "cell_type": "markdown",
   "metadata": {},
   "source": [
    "With the evaluation on the test data one can conclude that, with an accuracy of 0.97 and a loss of 0.15, the model performed very well on the unseen data. But, to really know how good these results are, we decided to plot the learning progress over the epochs, print its confusion matrix and its classification report.\n",
    "- When it comes to the plot, the model shows that, until the second epoch, it was learning well, but, after that point, it started overfitting.\n",
    "- The confusion matrix shows that the model predicted 3484 samples correctly out of a total of 3576 samples. In other words, it correctly predicted 3369 true negatives and 115 true positives. However, it also misclassified 19 negative samples as positive (false positives) and 73 positive samples as negative (false negatives). Since the number of false negatives is relatively high, the model is most probably missing some fraudulent examples. \n",
    "- The classification report shows that the model has a high accuracy of 0.97, which means that it classified most of the examples correctly. But, the precision is 0.86 and the recall is 0.61 which indicates that the model, once again, has some problems when it comes to correctly identifying positive examples (i.e., fraud cases) and also identifies some false positives (i.e., non-fraud cases incorrectly classified as fraud). However, the F1-score (harmonic mean of precision and recall) of 0.71 could be a good trade-off between precision and recall."
   ]
  },
  {
   "cell_type": "markdown",
   "metadata": {},
   "source": [
    "## Model 2"
   ]
  },
  {
   "cell_type": "markdown",
   "metadata": {},
   "source": [
    "Now we'll move on to our next model, \"Model 2\". \n",
    "When it comes to the splitting of the data into training, test and validation sets we did the same as for \"Model 1\".\n",
    "Afterwards, we create again the same random seed so that the results can be reproducible. And then, we define our model:\n",
    "- once again we set the output dimensions to 20 for our \"Embbeding\" layer.\n",
    "- the model is, once more, of type \"Sequential\" with four layers: an Embbeding layer, a Bidirectional LSTM layer with, this time, 30 hidden units, a Dense layer with 24 neuron units with the activation function \"relu\" (transforms negative values to 0 of the outputs of our 24 units, and keeps the positive values as they are), and another Dense layer with 1 neuron with the activation function \"sigmoid\". \n",
    "\n",
    "After we define the model we compile it. Once again, we are using \"binary crossentropy\" as the loss function, the \"adam\" optimizer, and \"accuracy\" as the evaluation metric.\n",
    "\n",
    "Next, we fit the model with our train sets and also our validation sets. We set the number of epochs to 10 and a batch size of 64. \n",
    "\n",
    "Afterwards, we report the evaluation of the test data, we plot the learning rate, get the confusion matrix and its classification report, which is what will tell us if the model learned or not and how well it learned."
   ]
  },
  {
   "cell_type": "code",
   "execution_count": 21,
   "metadata": {
    "execution": {
     "iopub.execute_input": "2023-02-27T14:06:38.514360Z",
     "iopub.status.busy": "2023-02-27T14:06:38.513982Z",
     "iopub.status.idle": "2023-02-27T14:06:38.536247Z",
     "shell.execute_reply": "2023-02-27T14:06:38.535177Z",
     "shell.execute_reply.started": "2023-02-27T14:06:38.514323Z"
    }
   },
   "outputs": [],
   "source": [
    "# splitting with sklearn library\n",
    "# inspiration for code https://scikit-learn.org/stable/modules/generated/sklearn.model_selection.train_test_split.html\n",
    "from sklearn.model_selection import train_test_split\n",
    "y = labels # fraudulent or not \n",
    "X = data # job add\n",
    "\n",
    "# split into train and test: \n",
    "#we set a seed so that the same splitting is obtained every time the code is run.\n",
    "X_train, X_test, y_train, y_test = train_test_split(X, y, test_size= 0.2, random_state=1)\n",
    "# create the validation portion:\n",
    "X_train, X_val, y_train, y_val = train_test_split(X_train, y_train, test_size=0.2, random_state=1)"
   ]
  },
  {
   "cell_type": "code",
   "execution_count": 22,
   "metadata": {
    "execution": {
     "iopub.execute_input": "2023-02-27T14:06:38.538776Z",
     "iopub.status.busy": "2023-02-27T14:06:38.537695Z",
     "iopub.status.idle": "2023-02-27T14:06:39.097164Z",
     "shell.execute_reply": "2023-02-27T14:06:39.096350Z",
     "shell.execute_reply.started": "2023-02-27T14:06:38.538731Z"
    },
    "tags": []
   },
   "outputs": [
    {
     "name": "stdout",
     "output_type": "stream",
     "text": [
      "Model: \"model2\"\n",
      "_________________________________________________________________\n",
      " Layer (type)                Output Shape              Param #   \n",
      "=================================================================\n",
      " embedding_1 (Embedding)     (None, 250, 20)           2000000   \n",
      "                                                                 \n",
      " bidirectional_1 (Bidirectio  (None, 60)               12240     \n",
      " nal)                                                            \n",
      "                                                                 \n",
      " dense_1 (Dense)             (None, 24)                1464      \n",
      "                                                                 \n",
      " dense_2 (Dense)             (None, 1)                 25        \n",
      "                                                                 \n",
      "=================================================================\n",
      "Total params: 2,013,729\n",
      "Trainable params: 2,013,729\n",
      "Non-trainable params: 0\n",
      "_________________________________________________________________\n",
      "None\n"
     ]
    }
   ],
   "source": [
    "np.random.seed(111)\n",
    "\n",
    "#define the model\n",
    "\n",
    "output_dim=20\n",
    "model2=Sequential(name = \"model2\")\n",
    "model2.add(Embedding(max_words,output_dim,input_length=max_len))\n",
    "model2.add(Bidirectional(LSTM(30 )))\n",
    "model2.add(Dense(24, activation='relu'))\n",
    "model2.add(Dense(1,activation='sigmoid'))\n",
    "\n",
    "model2.compile(loss='binary_crossentropy',\n",
    "               optimizer='adam',\n",
    "               metrics=['accuracy'])\n",
    "\n",
    "print(model2.summary())"
   ]
  },
  {
   "cell_type": "code",
   "execution_count": 23,
   "metadata": {
    "execution": {
     "iopub.execute_input": "2023-02-27T14:06:39.099083Z",
     "iopub.status.busy": "2023-02-27T14:06:39.098626Z",
     "iopub.status.idle": "2023-02-27T14:09:04.896927Z",
     "shell.execute_reply": "2023-02-27T14:09:04.895615Z",
     "shell.execute_reply.started": "2023-02-27T14:06:39.099034Z"
    },
    "tags": []
   },
   "outputs": [
    {
     "name": "stdout",
     "output_type": "stream",
     "text": [
      "Epoch 1/10\n",
      "179/179 [==============================] - 28s 126ms/step - loss: 0.2411 - accuracy: 0.9461 - val_loss: 0.1328 - val_accuracy: 0.9574\n",
      "Epoch 2/10\n",
      "179/179 [==============================] - 17s 97ms/step - loss: 0.0894 - accuracy: 0.9722 - val_loss: 0.0873 - val_accuracy: 0.9745\n",
      "Epoch 3/10\n",
      "179/179 [==============================] - 13s 70ms/step - loss: 0.0393 - accuracy: 0.9879 - val_loss: 0.0832 - val_accuracy: 0.9769\n",
      "Epoch 4/10\n",
      "179/179 [==============================] - 11s 60ms/step - loss: 0.0138 - accuracy: 0.9964 - val_loss: 0.1034 - val_accuracy: 0.9759\n",
      "Epoch 5/10\n",
      "179/179 [==============================] - 9s 53ms/step - loss: 0.0088 - accuracy: 0.9978 - val_loss: 0.1239 - val_accuracy: 0.9650\n",
      "Epoch 6/10\n",
      "179/179 [==============================] - 8s 43ms/step - loss: 0.0047 - accuracy: 0.9985 - val_loss: 0.1257 - val_accuracy: 0.9766\n",
      "Epoch 7/10\n",
      "179/179 [==============================] - 7s 40ms/step - loss: 0.0020 - accuracy: 0.9996 - val_loss: 0.1275 - val_accuracy: 0.9745\n",
      "Epoch 8/10\n",
      "179/179 [==============================] - 7s 42ms/step - loss: 0.0015 - accuracy: 0.9997 - val_loss: 0.1308 - val_accuracy: 0.9762\n",
      "Epoch 9/10\n",
      "179/179 [==============================] - 7s 37ms/step - loss: 0.0011 - accuracy: 0.9998 - val_loss: 0.1319 - val_accuracy: 0.9748\n",
      "Epoch 10/10\n",
      "179/179 [==============================] - 6s 32ms/step - loss: 0.0012 - accuracy: 0.9997 - val_loss: 0.1367 - val_accuracy: 0.9769\n"
     ]
    }
   ],
   "source": [
    "# fit the model and observe the learning process with its respective metrics\n",
    "history2 = model2.fit(X_train, y_train,\n",
    "                    epochs=10,\n",
    "                    batch_size=64,\n",
    "                    validation_data=(X_val, y_val))"
   ]
  },
  {
   "cell_type": "code",
   "execution_count": 24,
   "metadata": {
    "execution": {
     "iopub.execute_input": "2023-02-27T14:09:04.899440Z",
     "iopub.status.busy": "2023-02-27T14:09:04.899012Z",
     "iopub.status.idle": "2023-02-27T14:09:05.998849Z",
     "shell.execute_reply": "2023-02-27T14:09:05.997710Z",
     "shell.execute_reply.started": "2023-02-27T14:09:04.899382Z"
    },
    "tags": []
   },
   "outputs": [
    {
     "name": "stdout",
     "output_type": "stream",
     "text": [
      "Evaluate on the test data:\n",
      "112/112 [==============================] - 1s 9ms/step - loss: 0.1182 - accuracy: 0.9790\n"
     ]
    }
   ],
   "source": [
    "print('Evaluate on the test data:')\n",
    "results = model2.evaluate(X_test, y_test)"
   ]
  },
  {
   "cell_type": "code",
   "execution_count": 25,
   "metadata": {
    "execution": {
     "iopub.execute_input": "2023-02-27T14:09:06.001298Z",
     "iopub.status.busy": "2023-02-27T14:09:06.000910Z",
     "iopub.status.idle": "2023-02-27T14:09:06.439512Z",
     "shell.execute_reply": "2023-02-27T14:09:06.438343Z",
     "shell.execute_reply.started": "2023-02-27T14:09:06.001257Z"
    },
    "tags": []
   },
   "outputs": [
    {
     "data": {
      "image/png": "[encoded data removed]",
      "text/plain": [
       "<Figure size 640x480 with 1 Axes>"
      ]
     },
     "metadata": {},
     "output_type": "display_data"
    },
    {
     "data": {
      "image/png": "[encoded data removed]",
      "text/plain": [
       "<Figure size 640x480 with 1 Axes>"
      ]
     },
     "metadata": {},
     "output_type": "display_data"
    }
   ],
   "source": [
    "#Plot the results from above to understand the learning process more clearly over each epoch.\n",
    "\n",
    "import matplotlib.pyplot as plt\n",
    "\n",
    "loss = history2.history['loss']\n",
    "val_loss = history2.history['val_loss']\n",
    "acc = history2.history['accuracy']\n",
    "val_acc = history2.history['val_accuracy']\n",
    "\n",
    "epochs = range(1, len(loss) + 1)  # to count from epoch 1 to epoch 3\n",
    "\n",
    "plt.plot(epochs, acc, 'b', linestyle = 'dashdot', label='Training acc')\n",
    "plt.plot(epochs, val_acc, 'r', linewidth = '3', label='Validation acc')\n",
    "plt.title('Training and validation accuracy Model 2')\n",
    "plt.xlabel(\"epochs\")\n",
    "plt.ylabel(\"accuracy\")\n",
    "plt.legend()\n",
    "\n",
    "plt.figure()\n",
    "\n",
    "plt.plot(epochs, loss, 'b', linestyle = 'dashdot', label='Training loss')\n",
    "plt.plot(epochs, val_loss, 'r', linewidth = '3', label='Validation loss')\n",
    "plt.title('Training and validation loss Model 2')\n",
    "plt.xlabel(\"epochs\")\n",
    "plt.ylabel(\"loss\")\n",
    "plt.legend()\n",
    "\n",
    "plt.show()"
   ]
  },
  {
   "cell_type": "code",
   "execution_count": 26,
   "metadata": {
    "execution": {
     "iopub.execute_input": "2023-02-27T14:09:06.441620Z",
     "iopub.status.busy": "2023-02-27T14:09:06.441202Z",
     "iopub.status.idle": "2023-02-27T14:09:06.447007Z",
     "shell.execute_reply": "2023-02-27T14:09:06.445650Z",
     "shell.execute_reply.started": "2023-02-27T14:09:06.441582Z"
    },
    "tags": []
   },
   "outputs": [],
   "source": [
    "import sys\n",
    "sys.path.append(\" /export/home/iara.martins-da-costa-sobreiro/.local/lib/python3.10/site-packages\")"
   ]
  },
  {
   "cell_type": "code",
   "execution_count": 27,
   "metadata": {
    "execution": {
     "iopub.execute_input": "2023-02-27T14:09:06.449388Z",
     "iopub.status.busy": "2023-02-27T14:09:06.449015Z",
     "iopub.status.idle": "2023-02-27T14:09:08.045047Z",
     "shell.execute_reply": "2023-02-27T14:09:08.043515Z",
     "shell.execute_reply.started": "2023-02-27T14:09:06.449352Z"
    },
    "tags": []
   },
   "outputs": [
    {
     "name": "stdout",
     "output_type": "stream",
     "text": [
      "112/112 [==============================] - 1s 7ms/step\n"
     ]
    },
    {
     "data": {
      "text/plain": [
       "array([[0.],\n",
       "       [0.],\n",
       "       [0.],\n",
       "       ...,\n",
       "       [0.],\n",
       "       [0.],\n",
       "       [0.]], dtype=float32)"
      ]
     },
     "execution_count": 27,
     "metadata": {},
     "output_type": "execute_result"
    }
   ],
   "source": [
    "#Check the model actual predictions:\n",
    "y_pred = model2.predict(X_test)\n",
    "y_pred = np.around(y_pred, decimals=0)\n",
    "y_pred"
   ]
  },
  {
   "cell_type": "code",
   "execution_count": 28,
   "metadata": {
    "execution": {
     "iopub.execute_input": "2023-02-27T14:09:08.048679Z",
     "iopub.status.busy": "2023-02-27T14:09:08.046976Z",
     "iopub.status.idle": "2023-02-27T14:09:08.060082Z",
     "shell.execute_reply": "2023-02-27T14:09:08.058478Z",
     "shell.execute_reply.started": "2023-02-27T14:09:08.048635Z"
    },
    "tags": []
   },
   "outputs": [
    {
     "name": "stdout",
     "output_type": "stream",
     "text": [
      "[[3389   34]\n",
      " [  41  112]]\n"
     ]
    }
   ],
   "source": [
    "conf_mat = confusion_matrix(y_test, y_pred)\n",
    "print(conf_mat) #confusion matrix: useful summary of the model´s preformance."
   ]
  },
  {
   "cell_type": "code",
   "execution_count": 29,
   "metadata": {
    "execution": {
     "iopub.execute_input": "2023-02-27T14:09:08.063216Z",
     "iopub.status.busy": "2023-02-27T14:09:08.062003Z",
     "iopub.status.idle": "2023-02-27T14:09:08.087073Z",
     "shell.execute_reply": "2023-02-27T14:09:08.084900Z",
     "shell.execute_reply.started": "2023-02-27T14:09:08.063173Z"
    },
    "tags": []
   },
   "outputs": [
    {
     "name": "stdout",
     "output_type": "stream",
     "text": [
      "              precision    recall  f1-score   support\n",
      "\n",
      "           0       0.99      0.99      0.99      3423\n",
      "           1       0.77      0.73      0.75       153\n",
      "\n",
      "    accuracy                           0.98      3576\n",
      "   macro avg       0.88      0.86      0.87      3576\n",
      "weighted avg       0.98      0.98      0.98      3576\n",
      "\n"
     ]
    }
   ],
   "source": [
    "clas_rep = classification_report(y_test, y_pred, target_names=['0', '1'])\n",
    "print(clas_rep) #Check the evaluation metrics."
   ]
  },
  {
   "cell_type": "markdown",
   "metadata": {},
   "source": [
    "### Model 2 - Observations"
   ]
  },
  {
   "cell_type": "markdown",
   "metadata": {},
   "source": [
    "With the evaluation on the test data one can conclude that, with an accuracy of 0.98 and a loss of 0.14, this model also performed very well on the unseen data. \n",
    "- When it comes to the plot, the model shows that, until the 4th epoch, it was learning well, but, after that point, it started overfitting.\n",
    "- The confusion matrix shows that the model predicted the negative class (0) correctly for 3356 samples, but incorrectly predicted it as positive for 32 samples. On the other hand, the model correctly predicted the positive class (1) for 131 samples, but incorrectly predicted it as negative for 57 samples. The model is identifying the negative samples better than the positive ones.\n",
    "- Based on the metrics, the model has a high accuracy of 0.98, which means it classified the majority of the samples correctly. However, the model has a relatively low precision of 0.80, which means that it incorrectly classified some negative samples as positive. The recall of 0.70 is also relatively low, because it shows that the model failed to correctly identify some positive samples. The F1-score is also lower at 0.75 for the positive class, which, once again, shows that the model is not performing well on identifying the positive class. In general, the model has a high accuracy, but its precision and recall are lower for the positive class, which is something that we have to be cautious about."
   ]
  },
  {
   "cell_type": "markdown",
   "metadata": {},
   "source": [
    "## Model 3"
   ]
  },
  {
   "cell_type": "markdown",
   "metadata": {},
   "source": [
    "Now we have another model called \"Model 3\". \n",
    "This model has some differences compared to the previous ones but the bigger one is the data that it's fed with. As we plotted above, our classes are imbalanced, which can be a reason why the models don't identify the positive classes as good as the negative ones. So we decided to oversample our minority class (positive one) with the function \"RandomOverSampler\" from the imblearn library and apply it to our training data. Afterwards, we plot it to check if it worked and the barplot shows that both classes are now balanced. Then we do the same splitting as before but on the resampled data.\n",
    "\n",
    "Afterwards, we create again the same random seed so that the results will be reproducible. And then, we define our model:\n",
    "- the output dimensions are set to 50 for our \"Embbeding\" layer.\n",
    "- the model is, once more, of type \"Sequential\" with three layers (similar to the 1st one): an Embbeding layer, a Bidirectional LSTM layer with 30 hidden units, and a Dense layer with 1 neuron with the activation function \"sigmoid\". \n",
    "\n",
    "After we define the model we compile it. Once more, we are using \"binary crossentropy\" as the loss function, the \"adam\" optimizer, and \"accuracy\" as the evaluation metric.\n",
    "\n",
    "Next, we fit the model with our train sets and also our validation sets. We set the number of epochs to 10 and a batch size of 64. \n",
    "\n",
    "Afterwards, we report the evaluation of the test data, we plot the learning rate, get the confusion matrix and its classification report, which is what will tell us if the model learned or not and how well it learned."
   ]
  },
  {
   "cell_type": "code",
   "execution_count": 30,
   "metadata": {
    "execution": {
     "iopub.execute_input": "2023-02-27T14:09:08.090336Z",
     "iopub.status.busy": "2023-02-27T14:09:08.089164Z",
     "iopub.status.idle": "2023-02-27T14:09:08.920052Z",
     "shell.execute_reply": "2023-02-27T14:09:08.919059Z",
     "shell.execute_reply.started": "2023-02-27T14:09:08.090295Z"
    }
   },
   "outputs": [],
   "source": [
    "#import the imblearn library for oversampling\n",
    "import sys\n",
    "sys.path.append('/export/home/iara.martins-da-costa-sobreiro/.local/lib/python3.10/site-packages') #acess it through path\n",
    "import imblearn"
   ]
  },
  {
   "cell_type": "code",
   "execution_count": 31,
   "metadata": {
    "execution": {
     "iopub.execute_input": "2023-02-27T14:09:08.922720Z",
     "iopub.status.busy": "2023-02-27T14:09:08.921860Z",
     "iopub.status.idle": "2023-02-27T14:09:08.959370Z",
     "shell.execute_reply": "2023-02-27T14:09:08.958155Z",
     "shell.execute_reply.started": "2023-02-27T14:09:08.922667Z"
    }
   },
   "outputs": [],
   "source": [
    "# oversample the smaller classes\n",
    "from imblearn.over_sampling import RandomOverSampler\n",
    "\n",
    "# start oversampler\n",
    "ros = RandomOverSampler(sampling_strategy='minority')\n",
    "\n",
    "# apply the created oversampler on the training data and then return it.\n",
    "X_resampled, y_resampled = ros.fit_resample(X_train, y_train)"
   ]
  },
  {
   "cell_type": "code",
   "execution_count": 32,
   "metadata": {
    "execution": {
     "iopub.execute_input": "2023-02-27T14:09:08.961912Z",
     "iopub.status.busy": "2023-02-27T14:09:08.961160Z",
     "iopub.status.idle": "2023-02-27T14:09:09.188172Z",
     "shell.execute_reply": "2023-02-27T14:09:09.187073Z",
     "shell.execute_reply.started": "2023-02-27T14:09:08.961872Z"
    }
   },
   "outputs": [
    {
     "data": {
      "image/png": "[encoded data removed]",
      "text/plain": [
       "<Figure size 640x480 with 1 Axes>"
      ]
     },
     "metadata": {},
     "output_type": "display_data"
    }
   ],
   "source": [
    "# Check if classes are effectively oversampled by plotting them again.\n",
    "\n",
    "# pd.Series() to convert from array into a Pandas series so that it can be used with vales_counts()\n",
    "# value_counts() returns a new Series object where the index is the unique values of the original Series, and the values are the count of each unique value.\n",
    "counts = pd.Series(y_resampled).value_counts() \n",
    "\n",
    "# Plot these counts with a bar plot\n",
    "counts.plot(kind='bar', color=['red', 'blue'])\n",
    "plt.xlabel('Label')\n",
    "plt.ylabel('Count')\n",
    "plt.title('Plotting of classes')\n",
    "plt.xticks(rotation=0)\n",
    "plt.show()"
   ]
  },
  {
   "cell_type": "code",
   "execution_count": 33,
   "metadata": {
    "execution": {
     "iopub.execute_input": "2023-02-27T14:09:09.195372Z",
     "iopub.status.busy": "2023-02-27T14:09:09.192876Z",
     "iopub.status.idle": "2023-02-27T14:09:09.219153Z",
     "shell.execute_reply": "2023-02-27T14:09:09.218111Z",
     "shell.execute_reply.started": "2023-02-27T14:09:09.195331Z"
    }
   },
   "outputs": [],
   "source": [
    "# splitting with the new resampled variables\n",
    "X_train, X_test, y_train, y_test = train_test_split(X_train, y_train, test_size=0.2, random_state=1)\n",
    "X_train, X_val, y_train, y_val = train_test_split(X_resampled, y_resampled, test_size=0.2, random_state=1)"
   ]
  },
  {
   "cell_type": "code",
   "execution_count": 34,
   "metadata": {
    "execution": {
     "iopub.execute_input": "2023-02-27T14:09:09.226719Z",
     "iopub.status.busy": "2023-02-27T14:09:09.224123Z",
     "iopub.status.idle": "2023-02-27T14:09:09.772066Z",
     "shell.execute_reply": "2023-02-27T14:09:09.770968Z",
     "shell.execute_reply.started": "2023-02-27T14:09:09.226679Z"
    }
   },
   "outputs": [],
   "source": [
    "np.random.seed(111)\n",
    "\n",
    "# define model: uing the same compiling as the one for first model\n",
    "\n",
    "output_dim=50\n",
    "model3=Sequential(name = \"model3\")\n",
    "model3.add(Embedding(max_words,output_dim,input_length=max_len))\n",
    "model3.add(Bidirectional(LSTM(30)))\n",
    "model3.add(Dense(1,activation='sigmoid'))\n",
    "\n",
    "model3.compile(loss='binary_crossentropy',\n",
    "               optimizer='adam',\n",
    "               metrics=['accuracy'])"
   ]
  },
  {
   "cell_type": "code",
   "execution_count": 35,
   "metadata": {
    "execution": {
     "iopub.execute_input": "2023-02-27T14:09:09.773874Z",
     "iopub.status.busy": "2023-02-27T14:09:09.773524Z",
     "iopub.status.idle": "2023-02-27T14:12:10.302029Z",
     "shell.execute_reply": "2023-02-27T14:12:10.300936Z",
     "shell.execute_reply.started": "2023-02-27T14:09:09.773839Z"
    }
   },
   "outputs": [
    {
     "name": "stdout",
     "output_type": "stream",
     "text": [
      "Epoch 1/10\n",
      "272/272 [==============================] - 50s 168ms/step - loss: 0.1969 - accuracy: 0.9153 - val_loss: 0.0288 - val_accuracy: 0.9949\n",
      "Epoch 2/10\n",
      "272/272 [==============================] - 33s 121ms/step - loss: 0.0166 - accuracy: 0.9975 - val_loss: 0.0127 - val_accuracy: 0.9961\n",
      "Epoch 3/10\n",
      "272/272 [==============================] - 23s 84ms/step - loss: 0.0075 - accuracy: 0.9983 - val_loss: 0.0141 - val_accuracy: 0.9970\n",
      "Epoch 4/10\n",
      "272/272 [==============================] - 16s 59ms/step - loss: 0.0066 - accuracy: 0.9984 - val_loss: 0.0155 - val_accuracy: 0.9961\n",
      "Epoch 5/10\n",
      "272/272 [==============================] - 12s 45ms/step - loss: 0.0047 - accuracy: 0.9987 - val_loss: 0.0123 - val_accuracy: 0.9963\n",
      "Epoch 6/10\n",
      "272/272 [==============================] - 12s 45ms/step - loss: 0.0043 - accuracy: 0.9986 - val_loss: 0.0120 - val_accuracy: 0.9963\n",
      "Epoch 7/10\n",
      "272/272 [==============================] - 8s 31ms/step - loss: 0.0033 - accuracy: 0.9990 - val_loss: 0.0213 - val_accuracy: 0.9942\n",
      "Epoch 8/10\n",
      "272/272 [==============================] - 8s 31ms/step - loss: 0.0077 - accuracy: 0.9970 - val_loss: 0.0175 - val_accuracy: 0.9949\n",
      "Epoch 9/10\n",
      "272/272 [==============================] - 10s 35ms/step - loss: 9.4465e-04 - accuracy: 0.9997 - val_loss: 0.0084 - val_accuracy: 0.9982\n",
      "Epoch 10/10\n",
      "272/272 [==============================] - 8s 30ms/step - loss: 4.8946e-04 - accuracy: 0.9998 - val_loss: 0.0088 - val_accuracy: 0.9982\n"
     ]
    }
   ],
   "source": [
    "# fit the model and observe the learning process with its respective metrics\n",
    "\n",
    "history3 = model3.fit(X_train, y_train,\n",
    "                      epochs=10,\n",
    "                      batch_size=64,\n",
    "                      validation_data=(X_val, y_val))"
   ]
  },
  {
   "cell_type": "code",
   "execution_count": 36,
   "metadata": {
    "execution": {
     "iopub.execute_input": "2023-02-27T14:12:10.304038Z",
     "iopub.status.busy": "2023-02-27T14:12:10.303698Z",
     "iopub.status.idle": "2023-02-27T14:12:10.933713Z",
     "shell.execute_reply": "2023-02-27T14:12:10.932644Z",
     "shell.execute_reply.started": "2023-02-27T14:12:10.304009Z"
    }
   },
   "outputs": [
    {
     "name": "stdout",
     "output_type": "stream",
     "text": [
      "Evaluate on the test data:\n",
      "72/72 [==============================] - 1s 8ms/step - loss: 0.0035 - accuracy: 0.9996\n"
     ]
    }
   ],
   "source": [
    "print('Evaluate on the test data:')\n",
    "results = model3.evaluate(X_test, y_test)"
   ]
  },
  {
   "cell_type": "code",
   "execution_count": 37,
   "metadata": {
    "execution": {
     "iopub.execute_input": "2023-02-27T14:12:10.937671Z",
     "iopub.status.busy": "2023-02-27T14:12:10.937314Z",
     "iopub.status.idle": "2023-02-27T14:12:11.763860Z",
     "shell.execute_reply": "2023-02-27T14:12:11.762878Z",
     "shell.execute_reply.started": "2023-02-27T14:12:10.937639Z"
    },
    "tags": []
   },
   "outputs": [
    {
     "data": {
      "image/png": "[encoded data removed]",
      "text/plain": [
       "<Figure size 640x480 with 1 Axes>"
      ]
     },
     "metadata": {},
     "output_type": "display_data"
    },
    {
     "data": {
      "image/png": "[encoded data removed]",
      "text/plain": [
       "<Figure size 640x480 with 1 Axes>"
      ]
     },
     "metadata": {},
     "output_type": "display_data"
    }
   ],
   "source": [
    "#Plot the results from above to understand the learning process more clearly over each epoch.\n",
    "\n",
    "import matplotlib.pyplot as plt\n",
    "\n",
    "loss = history3.history['loss']\n",
    "val_loss = history3.history['val_loss']\n",
    "acc = history3.history['accuracy']\n",
    "val_acc = history3.history['val_accuracy']\n",
    "\n",
    "epochs = range(1, len(loss) + 1)  # to count from epoch 1 to epoch 3\n",
    "\n",
    "plt.plot(epochs, acc, 'b', linestyle = 'dashdot', label='Training acc')\n",
    "plt.plot(epochs, val_acc, 'r', linewidth = '3', label='Validation acc')\n",
    "plt.title('Training and validation accuracy Model 3')\n",
    "plt.xlabel(\"epochs\")\n",
    "plt.ylabel(\"accuracy\")\n",
    "plt.legend()\n",
    "\n",
    "plt.figure()\n",
    "\n",
    "plt.plot(epochs, loss, 'b', linestyle = 'dashdot', label='Training loss')\n",
    "plt.plot(epochs, val_loss, 'r', linewidth = '3', label='Validation loss')\n",
    "plt.title('Training and validation loss Model 3')\n",
    "plt.xlabel(\"epochs\")\n",
    "plt.ylabel(\"loss\")\n",
    "plt.legend()\n",
    "\n",
    "plt.show()"
   ]
  },
  {
   "cell_type": "code",
   "execution_count": 38,
   "metadata": {
    "execution": {
     "iopub.execute_input": "2023-02-27T14:12:11.767070Z",
     "iopub.status.busy": "2023-02-27T14:12:11.766436Z",
     "iopub.status.idle": "2023-02-27T14:12:13.038451Z",
     "shell.execute_reply": "2023-02-27T14:12:13.037182Z",
     "shell.execute_reply.started": "2023-02-27T14:12:11.767031Z"
    }
   },
   "outputs": [
    {
     "name": "stdout",
     "output_type": "stream",
     "text": [
      "72/72 [==============================] - 1s 7ms/step\n"
     ]
    },
    {
     "data": {
      "text/plain": [
       "array([[0.],\n",
       "       [0.],\n",
       "       [0.],\n",
       "       ...,\n",
       "       [0.],\n",
       "       [0.],\n",
       "       [0.]], dtype=float32)"
      ]
     },
     "execution_count": 38,
     "metadata": {},
     "output_type": "execute_result"
    }
   ],
   "source": [
    "#Check the model actual predictions:\n",
    "y_pred = model3.predict(X_test)\n",
    "y_pred = np.around(y_pred, decimals=0)\n",
    "y_pred"
   ]
  },
  {
   "cell_type": "code",
   "execution_count": 39,
   "metadata": {
    "execution": {
     "iopub.execute_input": "2023-02-27T14:12:13.042886Z",
     "iopub.status.busy": "2023-02-27T14:12:13.041461Z",
     "iopub.status.idle": "2023-02-27T14:12:13.053299Z",
     "shell.execute_reply": "2023-02-27T14:12:13.051990Z",
     "shell.execute_reply.started": "2023-02-27T14:12:13.042836Z"
    }
   },
   "outputs": [
    {
     "name": "stdout",
     "output_type": "stream",
     "text": [
      "[[2161    1]\n",
      " [   0  127]]\n"
     ]
    }
   ],
   "source": [
    "conf_mat = confusion_matrix(y_test, y_pred)\n",
    "print(conf_mat) #confusion matrix: useful summary of the model´s preformance."
   ]
  },
  {
   "cell_type": "code",
   "execution_count": 40,
   "metadata": {
    "execution": {
     "iopub.execute_input": "2023-02-27T14:12:13.055989Z",
     "iopub.status.busy": "2023-02-27T14:12:13.055534Z",
     "iopub.status.idle": "2023-02-27T14:12:13.074028Z",
     "shell.execute_reply": "2023-02-27T14:12:13.073242Z",
     "shell.execute_reply.started": "2023-02-27T14:12:13.055944Z"
    }
   },
   "outputs": [
    {
     "name": "stdout",
     "output_type": "stream",
     "text": [
      "              precision    recall  f1-score   support\n",
      "\n",
      "           0       1.00      1.00      1.00      2162\n",
      "           1       0.99      1.00      1.00       127\n",
      "\n",
      "    accuracy                           1.00      2289\n",
      "   macro avg       1.00      1.00      1.00      2289\n",
      "weighted avg       1.00      1.00      1.00      2289\n",
      "\n"
     ]
    }
   ],
   "source": [
    "clas_rep = classification_report(y_test, y_pred, target_names=['0', '1'])\n",
    "print(clas_rep) #Check the evaluation metrics."
   ]
  },
  {
   "cell_type": "markdown",
   "metadata": {},
   "source": [
    "### Model 3 - Observations"
   ]
  },
  {
   "cell_type": "markdown",
   "metadata": {},
   "source": [
    "With the evaluation on the test data one can conclude that, with an accuracy of 0.999 and a loss of 0.002, this model performed almost perfectly on the unseen data. \n",
    "- When it comes to the plot, the model shows no overfitting, on the contrary, it's showing a very good learning rate.\n",
    "- The confusion matrix shows that the model shows a very good classification performance, as it commits very few errors in predicting the labels of the test data. More specifically, there were 1709 true negative (TN) predictions and 1781 true positive (TP) predictions, which shows that the model classified 3490 samples correctly. It made no false positive predictions and only 2 false negative ones. It only had 2 wrong out of 1783 positives.\n",
    "- Based on the metrics, the model shows a very good performance for both classes. This is because, the precision for both is 1.00, which means that all predicted positive instances are really positive and all predicted negative instances are really negative. The recall is also, for both classes, 1.00, meaning that all the positive samples have been correctly predicted as positive and all the negative samples predicted as negative. When it comes to the F1-score, for both classes it is also 1.00."
   ]
  },
  {
   "cell_type": "markdown",
   "metadata": {},
   "source": [
    "## Model-bert"
   ]
  },
  {
   "cell_type": "markdown",
   "metadata": {},
   "source": [
    "For this last model, we decided to try something different to see if our results would get better. We used BERT's embeddings to serve as input to a model that we created called \"Model_bert\". This model's architecture is the same as the one of the model three (even though we tried many different architectures with different layers and units to see if more complex patterns would be learned). In this case, we are doing what is called \"transfer learning\".  The advantages of using BERT's embeddings for this task is because BERT is pre-trained on a large corpus of text, which allows it to capture the nuances of language better than traditional embeddings.\n",
    "- To do this, we have to import the BertTokenizer and BertModel from the \"bert-base-uncased\" model from the transformers library. Then, we set the model to \"eval\" mode. Next, we create a function called \"embeddings\" which takes a list of sentences as input and returns two types of embeddings: CLS embeddings and summed embeddings. In order to obtain these embeddings, the function first encodes the input sentences using the tokenizer, which returns the input IDs, attention masks, and token type IDs. These are then fed to the pre-trained BERT model, which returns the hidden states of all tokens from the last layer of the model. Then, we stack and squeeze the hidden states to obtain a tensor that contains the hidden states for each token in the input sequence at each layer of the neural network. We get the embeddings by taking the mean of the last four hidden states for the CLS token. The summed embeddings are obtained by summing the last four hidden states for each token and taking the mean across all tokens in the input sequence. Finally, the function returns the cls and summed embeddings as numpy arrays.\n",
    "- After we get the cls emmbedings and the summed ones, we create sentence embeddings for each sentence in the 'text' column of a pandas dataframe named 'df'. The provided code loops through each sentence using the range function and calls the 'embeddings' function (previously created) to get the two types of sentence embeddings - 'cls_emb' and 'b_emb'. For each sentence, the 'cls_emb' is appended to the 'cls_embeddings' list, while the 'b_emb' is not used here and is commented out since we will only be interested in the cls emmbeddings. This is because the CLS token is the first token in a BERT input and is specifically trained to contain the entire sequence representation for classification tasks, so it can be used to get a single vector representation for a sentence.\n",
    "- After we get the cls embeddings we shuffle them and then we do the same splitting process as it was previously done for the other models.\n",
    "- Then, I use the same architecture as it was used for model three. I decided on this one after trying different ones with more layers and hidden units but the results didn't seem to get better.\n",
    "- The type of compiling is the same as the previous ones. The fitting is very similar with the only difference being the number of epochs that are set to 8 instead of 10 since it didn't show improvement and takes less time to train."
   ]
  },
  {
   "cell_type": "code",
   "execution_count": 41,
   "metadata": {
    "execution": {
     "iopub.execute_input": "2023-02-27T14:12:13.081893Z",
     "iopub.status.busy": "2023-02-27T14:12:13.081266Z",
     "iopub.status.idle": "2023-02-27T14:12:22.890025Z",
     "shell.execute_reply": "2023-02-27T14:12:22.888646Z",
     "shell.execute_reply.started": "2023-02-27T14:12:13.081850Z"
    }
   },
   "outputs": [
    {
     "name": "stdout",
     "output_type": "stream",
     "text": [
      "There are 2 GPU(s) available.\n",
      "Device name: Tesla T4\n"
     ]
    }
   ],
   "source": [
    "import torch\n",
    "from transformers import BertTokenizer, BertModel\n",
    "#check if GPU is available\n",
    "if torch.cuda.is_available():   \n",
    "    device = torch.device(\"cuda:1\") #set device to utilize the power of the indexed GPU to perform computations.\n",
    "    print(f'There are {torch.cuda.device_count()} GPU(s) available.')\n",
    "    print('Device name:', torch.cuda.get_device_name(0))\n",
    "\n",
    "else:\n",
    "    print('No GPU available, using the CPU instead.')\n",
    "    device = torch.device(\"cpu\") #use CPU if no GPU available"
   ]
  },
  {
   "cell_type": "code",
   "execution_count": 42,
   "metadata": {
    "execution": {
     "iopub.execute_input": "2023-02-27T14:12:22.892943Z",
     "iopub.status.busy": "2023-02-27T14:12:22.892498Z",
     "iopub.status.idle": "2023-02-27T14:12:35.480183Z",
     "shell.execute_reply": "2023-02-27T14:12:35.479014Z",
     "shell.execute_reply.started": "2023-02-27T14:12:22.892888Z"
    }
   },
   "outputs": [
    {
     "data": {
      "application/vnd.jupyter.widget-view+json": {
       "model_id": "aa4a25137a78410a9959d52b85ab8c1c",
       "version_major": 2,
       "version_minor": 0
      },
      "text/plain": [
       "Downloading (…)solve/main/vocab.txt:   0%|          | 0.00/232k [00:00<?, ?B/s]"
      ]
     },
     "metadata": {},
     "output_type": "display_data"
    },
    {
     "data": {
      "application/vnd.jupyter.widget-view+json": {
       "model_id": "a0b3cfa999544f30bb5c7dfbc5d404ca",
       "version_major": 2,
       "version_minor": 0
      },
      "text/plain": [
       "Downloading (…)okenizer_config.json:   0%|          | 0.00/28.0 [00:00<?, ?B/s]"
      ]
     },
     "metadata": {},
     "output_type": "display_data"
    },
    {
     "data": {
      "application/vnd.jupyter.widget-view+json": {
       "model_id": "12eddc98d2ca4a3ca96268dd370e800d",
       "version_major": 2,
       "version_minor": 0
      },
      "text/plain": [
       "Downloading (…)lve/main/config.json:   0%|          | 0.00/570 [00:00<?, ?B/s]"
      ]
     },
     "metadata": {},
     "output_type": "display_data"
    },
    {
     "data": {
      "application/vnd.jupyter.widget-view+json": {
       "model_id": "e9d61c157694430fad9f45a4934f1eff",
       "version_major": 2,
       "version_minor": 0
      },
      "text/plain": [
       "Downloading (…)\"pytorch_model.bin\";:   0%|          | 0.00/440M [00:00<?, ?B/s]"
      ]
     },
     "metadata": {},
     "output_type": "display_data"
    },
    {
     "name": "stderr",
     "output_type": "stream",
     "text": [
      "Some weights of the model checkpoint at bert-base-uncased were not used when initializing BertModel: ['cls.predictions.transform.dense.bias', 'cls.predictions.transform.LayerNorm.weight', 'cls.predictions.transform.dense.weight', 'cls.predictions.bias', 'cls.seq_relationship.weight', 'cls.predictions.decoder.weight', 'cls.seq_relationship.bias', 'cls.predictions.transform.LayerNorm.bias']\n",
      "- This IS expected if you are initializing BertModel from the checkpoint of a model trained on another task or with another architecture (e.g. initializing a BertForSequenceClassification model from a BertForPreTraining model).\n",
      "- This IS NOT expected if you are initializing BertModel from the checkpoint of a model that you expect to be exactly identical (initializing a BertForSequenceClassification model from a BertForSequenceClassification model).\n"
     ]
    }
   ],
   "source": [
    "# import tokenizer from the BERT base uncased model\n",
    "tokenizer = BertTokenizer.from_pretrained('bert-base-uncased', do_lower_case=True)\n",
    "\n",
    "# import the pre-train model from BERT base uncased\n",
    "model = BertModel.from_pretrained('bert-base-uncased',\n",
    "                                  output_hidden_states = True, #return all hidden-states\n",
    "                                  ).to(device)\n",
    "\n",
    "# set the model in eval mode for fine-tunning\n",
    "model.eval()\n",
    "\n",
    "\n",
    "# get BERT embeddings for the words of all the dataset sentences\n",
    "def embeddings(sentences):\n",
    "    #encode_plus()returns the actual input ids, the attention masks, and the token type ids, and it returns all of these in a dictionary.\n",
    "    encoding = tokenizer.encode_plus(sentences, \n",
    "                                     add_special_tokens = True, \n",
    "                                     truncation=True,\n",
    "                                     max_length = max_len,\n",
    "                                     padding=True,\n",
    "                                     return_attention_mask= True, \n",
    "                                     return_tensors=\"pt\") \n",
    "\n",
    "    tokens_tensor = encoding[\"input_ids\"] \n",
    "    segments_tensors = encoding[\"attention_mask\"] \n",
    "    segments_ids = encoding[\"token_type_ids\"]\n",
    "    \n",
    "    with torch.no_grad():\n",
    "                          \n",
    "        outputs = model(tokens_tensor.to(device), segments_tensors.to(device)) # feed the input to the model.\n",
    "    #tokens_tensor: tensor where it contains the sentences input ID's from the encoding dictionary\n",
    "    #segment_tensors:attention masks\n",
    "    \n",
    "    hidden_states = outputs[2] #stores the hidden states of the tokens from the last layer of the BERT model in the hidden_states variable. \n",
    "\n",
    "    \n",
    "    del outputs #delete the outputs from memory\n",
    "    \n",
    "    token_embeddings = torch.stack(hidden_states, dim=0)\n",
    "    token_embeddings = torch.squeeze(token_embeddings, dim=1) \n",
    "    token_embeddings = token_embeddings.permute(1,0,2) \n",
    "    #the resulting token_embeddings tensor contains the hidden states for each token in the input sequence at each layer of the neural network\n",
    "    \n",
    "    cls_emb = token_embeddings[0][-4:].mean(dim=0).detach().cpu().numpy() #Get the CLS embbedings\n",
    "\n",
    "    sent_token_vecs_sum = []\n",
    "\n",
    "    for token in token_embeddings:\n",
    "        tok = token.to(\"cpu\")  \n",
    "        token.detach() \n",
    "        del token  #reduce memory footprint\n",
    "\n",
    "        # Sum the last four layers\n",
    "        sum_vec = torch.sum(tok[-4:], dim=0)\n",
    "        sent_token_vecs_sum.append(sum_vec)\n",
    "\n",
    "    b_emb = torch.stack(sent_token_vecs_sum, dim=0).mean(dim=0).detach().cpu().numpy() #Get the summed embbedings\n",
    "    #summed embeddings of each token in the input sequence.    \n",
    "    return cls_emb, b_emb"
   ]
  },
  {
   "cell_type": "code",
   "execution_count": 43,
   "metadata": {
    "execution": {
     "iopub.execute_input": "2023-02-27T14:12:35.482451Z",
     "iopub.status.busy": "2023-02-27T14:12:35.481767Z",
     "iopub.status.idle": "2023-02-27T14:27:26.106998Z",
     "shell.execute_reply": "2023-02-27T14:27:26.105871Z",
     "shell.execute_reply.started": "2023-02-27T14:12:35.482409Z"
    }
   },
   "outputs": [
    {
     "name": "stderr",
     "output_type": "stream",
     "text": [
      "Creating sentence embeddings: 100%|██████████| 17880/17880 [14:50<00:00, 20.08it/s]\n"
     ]
    }
   ],
   "source": [
    "from tqdm import tqdm #display progress bar\n",
    "cls_embeddings = []\n",
    "summed_embeddings = []\n",
    "\n",
    "for idx in tqdm(range(0, len(df['text'])), desc =\"Creating sentence embeddings\"):\n",
    "    cls_emb, b_emb = embeddings(df['text'][idx]) #call the emmbedings function to get the two types of sentence emmbeddings\n",
    "    #summed_embeddings.append(b_emb) #append the embeddings to the list\n",
    "    cls_embeddings.append(cls_emb) #append the embeddings to the list"
   ]
  },
  {
   "cell_type": "code",
   "execution_count": 44,
   "metadata": {
    "execution": {
     "iopub.execute_input": "2023-02-27T14:27:26.109357Z",
     "iopub.status.busy": "2023-02-27T14:27:26.108698Z",
     "iopub.status.idle": "2023-02-27T14:27:26.193497Z",
     "shell.execute_reply": "2023-02-27T14:27:26.192353Z",
     "shell.execute_reply.started": "2023-02-27T14:27:26.109312Z"
    }
   },
   "outputs": [],
   "source": [
    "#Shuffle the embeddings\n",
    "indices = np.arange(np.array(cls_embeddings).shape[0])\n",
    "np.random.shuffle(indices) #shuffle the indexes randomly\n",
    "cls_emb = np.array(cls_embeddings) #convert into NumPy arrays\n",
    "\n",
    "cls_emb = cls_emb[indices] # shuffle array"
   ]
  },
  {
   "cell_type": "code",
   "execution_count": 45,
   "metadata": {
    "execution": {
     "iopub.execute_input": "2023-02-27T14:27:26.195256Z",
     "iopub.status.busy": "2023-02-27T14:27:26.194892Z",
     "iopub.status.idle": "2023-02-27T14:27:26.238800Z",
     "shell.execute_reply": "2023-02-27T14:27:26.237637Z",
     "shell.execute_reply.started": "2023-02-27T14:27:26.195220Z"
    }
   },
   "outputs": [],
   "source": [
    "y = labels # fraudulent or not \n",
    "X = cls_emb # job add\n",
    "\n",
    "# split into train and test: \n",
    "X_train, X_test, y_train, y_test = train_test_split(X, y, test_size= 0.2, random_state=1)\n",
    "#we set a seed so that the same splitting is obtained avery time the code is run.\n",
    "# create the validation portion:\n",
    "X_train, X_val, y_train, y_val = train_test_split(X_train, y_train, test_size=0.2, random_state=1)"
   ]
  },
  {
   "cell_type": "code",
   "execution_count": 46,
   "metadata": {
    "execution": {
     "iopub.execute_input": "2023-02-27T14:27:26.241031Z",
     "iopub.status.busy": "2023-02-27T14:27:26.240273Z",
     "iopub.status.idle": "2023-02-27T14:27:27.252477Z",
     "shell.execute_reply": "2023-02-27T14:27:27.251633Z",
     "shell.execute_reply.started": "2023-02-27T14:27:26.240989Z"
    }
   },
   "outputs": [
    {
     "name": "stdout",
     "output_type": "stream",
     "text": [
      "Model: \"model_bert\"\n",
      "_________________________________________________________________\n",
      " Layer (type)                Output Shape              Param #   \n",
      "=================================================================\n",
      " embedding_3 (Embedding)     (None, 768, 50)           5000000   \n",
      "                                                                 \n",
      " bidirectional_3 (Bidirectio  (None, 60)               19440     \n",
      " nal)                                                            \n",
      "                                                                 \n",
      " dense_4 (Dense)             (None, 1)                 61        \n",
      "                                                                 \n",
      "=================================================================\n",
      "Total params: 5,019,501\n",
      "Trainable params: 5,019,501\n",
      "Non-trainable params: 0\n",
      "_________________________________________________________________\n",
      "None\n"
     ]
    }
   ],
   "source": [
    "np.random.seed(111)\n",
    "\n",
    "#define the model: based on the third model.\n",
    "output_dim= 50 \n",
    "model_bert=Sequential(name = \"model_bert\")\n",
    "model_bert.add(Embedding(max_words,output_dim,input_shape = (768,))) \n",
    "model_bert.add(Bidirectional(LSTM(30)))\n",
    "model_bert.add(Dense(1, activation='sigmoid'))\n",
    "\n",
    "model_bert.compile(loss='binary_crossentropy',\n",
    "               optimizer='adam',\n",
    "               metrics=['accuracy'])\n",
    "print(model_bert.summary())"
   ]
  },
  {
   "cell_type": "code",
   "execution_count": 47,
   "metadata": {
    "execution": {
     "iopub.execute_input": "2023-02-27T14:27:27.254368Z",
     "iopub.status.busy": "2023-02-27T14:27:27.253996Z",
     "iopub.status.idle": "2023-02-27T14:27:27.264599Z",
     "shell.execute_reply": "2023-02-27T14:27:27.262868Z",
     "shell.execute_reply.started": "2023-02-27T14:27:27.254328Z"
    }
   },
   "outputs": [
    {
     "data": {
      "text/plain": [
       "(3576, 768)"
      ]
     },
     "execution_count": 47,
     "metadata": {},
     "output_type": "execute_result"
    }
   ],
   "source": [
    "X_test.shape"
   ]
  },
  {
   "cell_type": "code",
   "execution_count": 48,
   "metadata": {
    "execution": {
     "iopub.execute_input": "2023-02-27T14:27:27.267263Z",
     "iopub.status.busy": "2023-02-27T14:27:27.266858Z",
     "iopub.status.idle": "2023-02-27T14:28:52.582179Z",
     "shell.execute_reply": "2023-02-27T14:28:52.581026Z",
     "shell.execute_reply.started": "2023-02-27T14:27:27.267219Z"
    }
   },
   "outputs": [
    {
     "name": "stdout",
     "output_type": "stream",
     "text": [
      "Epoch 1/8\n",
      "179/179 [==============================] - 15s 59ms/step - loss: 0.2435 - accuracy: 0.9443 - val_loss: 0.1891 - val_accuracy: 0.9532\n",
      "Epoch 2/8\n",
      "179/179 [==============================] - 9s 52ms/step - loss: 0.2007 - accuracy: 0.9494 - val_loss: 0.1895 - val_accuracy: 0.9532\n",
      "Epoch 3/8\n",
      "179/179 [==============================] - 8s 47ms/step - loss: 0.2008 - accuracy: 0.9494 - val_loss: 0.1892 - val_accuracy: 0.9532\n",
      "Epoch 4/8\n",
      "179/179 [==============================] - 9s 49ms/step - loss: 0.2010 - accuracy: 0.9494 - val_loss: 0.1891 - val_accuracy: 0.9532\n",
      "Epoch 5/8\n",
      "179/179 [==============================] - 9s 52ms/step - loss: 0.2007 - accuracy: 0.9494 - val_loss: 0.1908 - val_accuracy: 0.9532\n",
      "Epoch 6/8\n",
      "179/179 [==============================] - 9s 49ms/step - loss: 0.2008 - accuracy: 0.9494 - val_loss: 0.1892 - val_accuracy: 0.9532\n",
      "Epoch 7/8\n",
      "179/179 [==============================] - 9s 49ms/step - loss: 0.2006 - accuracy: 0.9494 - val_loss: 0.1891 - val_accuracy: 0.9532\n",
      "Epoch 8/8\n",
      "179/179 [==============================] - 9s 49ms/step - loss: 0.2008 - accuracy: 0.9494 - val_loss: 0.1891 - val_accuracy: 0.9532\n"
     ]
    }
   ],
   "source": [
    "history_bert = model_bert.fit(X_train, y_train,\n",
    "                    epochs=8,\n",
    "                    batch_size=64,\n",
    "                    validation_data = (X_val, y_val))"
   ]
  },
  {
   "cell_type": "code",
   "execution_count": 52,
   "metadata": {
    "execution": {
     "iopub.execute_input": "2023-02-27T14:36:48.316059Z",
     "iopub.status.busy": "2023-02-27T14:36:48.315299Z",
     "iopub.status.idle": "2023-02-27T14:36:51.020665Z",
     "shell.execute_reply": "2023-02-27T14:36:51.019629Z",
     "shell.execute_reply.started": "2023-02-27T14:36:48.316017Z"
    }
   },
   "outputs": [
    {
     "name": "stdout",
     "output_type": "stream",
     "text": [
      "Evaluate on the test data:\n",
      "112/112 [==============================] - 3s 23ms/step - loss: 0.1770 - accuracy: 0.9572\n"
     ]
    }
   ],
   "source": [
    "print('Evaluate on the test data:')\n",
    "results = model_bert.evaluate(X_test, y_test)"
   ]
  },
  {
   "cell_type": "code",
   "execution_count": 50,
   "metadata": {
    "execution": {
     "iopub.execute_input": "2023-02-27T14:28:55.207595Z",
     "iopub.status.busy": "2023-02-27T14:28:55.206764Z",
     "iopub.status.idle": "2023-02-27T14:28:58.473346Z",
     "shell.execute_reply": "2023-02-27T14:28:58.472052Z",
     "shell.execute_reply.started": "2023-02-27T14:28:55.207552Z"
    }
   },
   "outputs": [
    {
     "name": "stdout",
     "output_type": "stream",
     "text": [
      "112/112 [==============================] - 3s 18ms/step\n",
      "[[3423  153]\n",
      " [   0    0]]\n",
      "0.9572147651006712\n",
      "              precision    recall  f1-score   support\n",
      "\n",
      "           0       0.96      1.00      0.98      3423\n",
      "           1       0.00      0.00      0.00       153\n",
      "\n",
      "    accuracy                           0.96      3576\n",
      "   macro avg       0.48      0.50      0.49      3576\n",
      "weighted avg       0.92      0.96      0.94      3576\n",
      "\n"
     ]
    },
    {
     "name": "stderr",
     "output_type": "stream",
     "text": [
      "/opt/conda/lib/python3.7/site-packages/sklearn/metrics/_classification.py:1318: UndefinedMetricWarning: Precision and F-score are ill-defined and being set to 0.0 in labels with no predicted samples. Use `zero_division` parameter to control this behavior.\n",
      "  _warn_prf(average, modifier, msg_start, len(result))\n",
      "/opt/conda/lib/python3.7/site-packages/sklearn/metrics/_classification.py:1318: UndefinedMetricWarning: Precision and F-score are ill-defined and being set to 0.0 in labels with no predicted samples. Use `zero_division` parameter to control this behavior.\n",
      "  _warn_prf(average, modifier, msg_start, len(result))\n",
      "/opt/conda/lib/python3.7/site-packages/sklearn/metrics/_classification.py:1318: UndefinedMetricWarning: Precision and F-score are ill-defined and being set to 0.0 in labels with no predicted samples. Use `zero_division` parameter to control this behavior.\n",
      "  _warn_prf(average, modifier, msg_start, len(result))\n"
     ]
    }
   ],
   "source": [
    "y_pred = (model_bert.predict(X_test)).astype(\"int32\")\n",
    "print(confusion_matrix(y_pred, y_test))\n",
    "print(accuracy_score(y_test,y_pred))\n",
    "print(classification_report(y_test,y_pred))"
   ]
  },
  {
   "cell_type": "code",
   "execution_count": 51,
   "metadata": {
    "execution": {
     "iopub.execute_input": "2023-02-27T14:28:58.476514Z",
     "iopub.status.busy": "2023-02-27T14:28:58.475522Z",
     "iopub.status.idle": "2023-02-27T14:28:58.949446Z",
     "shell.execute_reply": "2023-02-27T14:28:58.948406Z",
     "shell.execute_reply.started": "2023-02-27T14:28:58.476464Z"
    },
    "tags": []
   },
   "outputs": [
    {
     "data": {
      "image/png": "[encoded data removed]",
      "text/plain": [
       "<Figure size 640x480 with 1 Axes>"
      ]
     },
     "metadata": {},
     "output_type": "display_data"
    },
    {
     "data": {
      "image/png": "[encoded data removed]",
      "text/plain": [
       "<Figure size 640x480 with 1 Axes>"
      ]
     },
     "metadata": {},
     "output_type": "display_data"
    }
   ],
   "source": [
    "# Plot the results:\n",
    "\n",
    "#Plot the results from above to understand the learning process more clearly over each epoch.\n",
    "\n",
    "import matplotlib.pyplot as plt\n",
    "\n",
    "loss = history_bert.history['loss']\n",
    "val_loss = history_bert.history['val_loss']\n",
    "acc = history_bert.history['accuracy']\n",
    "val_acc = history_bert.history['val_accuracy']\n",
    "\n",
    "epochs = range(1, len(loss) + 1)  # to count from epoch 1 to epoch 3\n",
    "\n",
    "plt.plot(epochs, acc, 'b', linestyle = 'dashdot', label='Training acc')\n",
    "plt.plot(epochs, val_acc, 'r', linewidth = '3', label='Validation acc')\n",
    "plt.title('Training and validation accuracy Model Bert')\n",
    "plt.xlabel(\"epochs\")\n",
    "plt.ylabel(\"accuracy\")\n",
    "plt.legend()\n",
    "\n",
    "plt.figure()\n",
    "\n",
    "plt.plot(epochs, loss, 'b', linestyle = 'dashdot', label='Training loss')\n",
    "plt.plot(epochs, val_loss, 'r', linewidth = '3', label='Validation loss')\n",
    "plt.title('Training and validation loss Model Bert')\n",
    "plt.xlabel(\"epochs\")\n",
    "plt.ylabel(\"loss\")\n",
    "plt.legend()\n",
    "\n",
    "plt.show()"
   ]
  },
  {
   "cell_type": "markdown",
   "metadata": {},
   "source": [
    "### Model_bert - Observations"
   ]
  },
  {
   "cell_type": "markdown",
   "metadata": {},
   "source": [
    "Only based on the evaluation on the test data, one can conclude that, with an accurancy of 0.96 and a loss of 0.18, this model performed well on the unseen data. \n",
    "- When it comes to the plot, the model shows a stable validation loss and validation accuracy across all the epochs, but since the accuracy is quite high, this shows that the model is performing well on the given dataset.\n",
    "- The confusion matrix and classification report show that the model is predicting all instances as the majority class (0). This is because all the metrics (precision, recall and f-1 score) are zero for class 1. All this means that the model didn't predict any positive instances correctly and all actual positive instances are being classified as negative. This is happening, most probably, because the dataset is imbalanced, with one class having significantly more instances than the other. The model is learning to predict the majority class to achieve a high overall accuracy. To deal with this issue, we tried three things:\n",
    " - do the same as we did for model three by oversampling the minority class (1).\n",
    " - manipulate the minority class' weights to serve as some form of attention marker for the model to focus on that specific class.\n",
    " - change the model architecture by adding some extra layers and their units so that it could learn more complex patterns in order to become more robust.\n",
    " \n",
    " All these measures didn't work out in end, so that's why we just sticked with this architecture."
   ]
  },
  {
   "cell_type": "markdown",
   "metadata": {},
   "source": [
    "## Conclusion"
   ]
  },
  {
   "cell_type": "markdown",
   "metadata": {},
   "source": [
    "Our aim with this project was to find the best model to deal with the job fraud classification task by trying different approaches and also comparing their performances.\n",
    "\n",
    "So, we built four different models on which we applied different measures to ensure their differences. First, we changed the architectures regarding their layers (difference between the first and the second one) which resulted in a slightly better preformance.\n",
    "Then, for the third model, we applied a different measure, which is data manipulation. We also changed the output dimension to 50 and the LSTM units to 30, since they also contributed a bit to the performance. Our first two models trained on imbalanced data, which can be a problem for models to deal with  when it comes to correctly classify the existing classes. So, we decided to oversample our minority class (1) in order to make the data balanced. In the end, we boosted our model's performance a lot as it can be confirmed by its results, where both classes were identified correctly. This measure placed our third model in the first place spot.\n",
    "\n",
    "Afterwards, we decided to create a fourth model, which has the same architecture as our best model so far (3rd) but, this time, we used BERT's embeddings as input to see if we could boost the performance of the model even more. After we did this, our model, contrary to the previous ones, showed that it couldn't correctly classify our minority class at all. So, to deal with this, as it was mentioned before, we tried different approaches like, per example, the one of model 3 (since it was our best model so far) and, even then, nothing changed. So, we decided to leave it as it is now.\n",
    "\n",
    "So, after all the experimenting, we concluded, once again, that the best model was the third model, since it was the one that had the best results and identified all our classes perfectly. However, one must not forget that this model's results were generated using oversampled data, so the true performance of this classifier on a real-world dataset might not be as high. This means that, if the sole purpose is just to reach the highest accuracy possible, the third model is the best, but if we want to stick to real results without manipulating the data, we conclude that our second model is better.\n",
    "\n",
    "Another thing that we want to note is that, if we switch the splitting process, so validation first and then training, we boost all our models' performances (this is a technique used to boost models' results) but, since our goal was to compare them, we decided to stick to the other order (since it is considered the most common when one wants to compare models' performances)."
   ]
  }
 ],
 "metadata": {
  "kernelspec": {
   "display_name": "Python 3 (ipykernel)",
   "language": "python",
   "name": "python3"
  },
  "language_info": {
   "codemirror_mode": {
    "name": "ipython",
    "version": 3
   },
   "file_extension": ".py",
   "mimetype": "text/x-python",
   "name": "python",
   "nbconvert_exporter": "python",
   "pygments_lexer": "ipython3",
   "version": "3.10.13"
  }
 },
 "nbformat": 4,
 "nbformat_minor": 4
}
